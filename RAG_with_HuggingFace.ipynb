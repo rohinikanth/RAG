{
  "nbformat": 4,
  "nbformat_minor": 0,
  "metadata": {
    "colab": {
      "provenance": [],
      "authorship_tag": "ABX9TyPCj1nulQ8FehOelKauYcLr",
      "include_colab_link": true
    },
    "kernelspec": {
      "name": "python3",
      "display_name": "Python 3"
    },
    "language_info": {
      "name": "python"
    },
    "widgets": {
      "application/vnd.jupyter.widget-state+json": {
        "d2e6ffe576e34776ac565833f4265513": {
          "model_module": "@jupyter-widgets/controls",
          "model_name": "HBoxModel",
          "model_module_version": "1.5.0",
          "state": {
            "_dom_classes": [],
            "_model_module": "@jupyter-widgets/controls",
            "_model_module_version": "1.5.0",
            "_model_name": "HBoxModel",
            "_view_count": null,
            "_view_module": "@jupyter-widgets/controls",
            "_view_module_version": "1.5.0",
            "_view_name": "HBoxView",
            "box_style": "",
            "children": [
              "IPY_MODEL_675c5fa22c2e43a78c0295da8d1bf3a8",
              "IPY_MODEL_b50aef6dac1141debd336569356baff8",
              "IPY_MODEL_0ba7a335692b438b9f971c9405bb4d73"
            ],
            "layout": "IPY_MODEL_f0614c94e6494d498e8b9ac638f235e5"
          }
        },
        "675c5fa22c2e43a78c0295da8d1bf3a8": {
          "model_module": "@jupyter-widgets/controls",
          "model_name": "HTMLModel",
          "model_module_version": "1.5.0",
          "state": {
            "_dom_classes": [],
            "_model_module": "@jupyter-widgets/controls",
            "_model_module_version": "1.5.0",
            "_model_name": "HTMLModel",
            "_view_count": null,
            "_view_module": "@jupyter-widgets/controls",
            "_view_module_version": "1.5.0",
            "_view_name": "HTMLView",
            "description": "",
            "description_tooltip": null,
            "layout": "IPY_MODEL_a538977885224eb5bff57366cba22dfb",
            "placeholder": "​",
            "style": "IPY_MODEL_30399b3d1bce4a4f834cbc79af2e995e",
            "value": "pytorch_model.bin: 100%"
          }
        },
        "b50aef6dac1141debd336569356baff8": {
          "model_module": "@jupyter-widgets/controls",
          "model_name": "FloatProgressModel",
          "model_module_version": "1.5.0",
          "state": {
            "_dom_classes": [],
            "_model_module": "@jupyter-widgets/controls",
            "_model_module_version": "1.5.0",
            "_model_name": "FloatProgressModel",
            "_view_count": null,
            "_view_module": "@jupyter-widgets/controls",
            "_view_module_version": "1.5.0",
            "_view_name": "ProgressView",
            "bar_style": "success",
            "description": "",
            "description_tooltip": null,
            "layout": "IPY_MODEL_a599362414714ed68e0cd7c3e9144785",
            "max": 437983985,
            "min": 0,
            "orientation": "horizontal",
            "style": "IPY_MODEL_e07beedb16844944adf9b4a07e69d86e",
            "value": 437983985
          }
        },
        "0ba7a335692b438b9f971c9405bb4d73": {
          "model_module": "@jupyter-widgets/controls",
          "model_name": "HTMLModel",
          "model_module_version": "1.5.0",
          "state": {
            "_dom_classes": [],
            "_model_module": "@jupyter-widgets/controls",
            "_model_module_version": "1.5.0",
            "_model_name": "HTMLModel",
            "_view_count": null,
            "_view_module": "@jupyter-widgets/controls",
            "_view_module_version": "1.5.0",
            "_view_name": "HTMLView",
            "description": "",
            "description_tooltip": null,
            "layout": "IPY_MODEL_c233b37a274a491aa19b5394650b22fb",
            "placeholder": "​",
            "style": "IPY_MODEL_6670bc968faf471689f21c660dcbc530",
            "value": " 438M/438M [00:06&lt;00:00, 154MB/s]"
          }
        },
        "f0614c94e6494d498e8b9ac638f235e5": {
          "model_module": "@jupyter-widgets/base",
          "model_name": "LayoutModel",
          "model_module_version": "1.2.0",
          "state": {
            "_model_module": "@jupyter-widgets/base",
            "_model_module_version": "1.2.0",
            "_model_name": "LayoutModel",
            "_view_count": null,
            "_view_module": "@jupyter-widgets/base",
            "_view_module_version": "1.2.0",
            "_view_name": "LayoutView",
            "align_content": null,
            "align_items": null,
            "align_self": null,
            "border": null,
            "bottom": null,
            "display": null,
            "flex": null,
            "flex_flow": null,
            "grid_area": null,
            "grid_auto_columns": null,
            "grid_auto_flow": null,
            "grid_auto_rows": null,
            "grid_column": null,
            "grid_gap": null,
            "grid_row": null,
            "grid_template_areas": null,
            "grid_template_columns": null,
            "grid_template_rows": null,
            "height": null,
            "justify_content": null,
            "justify_items": null,
            "left": null,
            "margin": null,
            "max_height": null,
            "max_width": null,
            "min_height": null,
            "min_width": null,
            "object_fit": null,
            "object_position": null,
            "order": null,
            "overflow": null,
            "overflow_x": null,
            "overflow_y": null,
            "padding": null,
            "right": null,
            "top": null,
            "visibility": null,
            "width": null
          }
        },
        "a538977885224eb5bff57366cba22dfb": {
          "model_module": "@jupyter-widgets/base",
          "model_name": "LayoutModel",
          "model_module_version": "1.2.0",
          "state": {
            "_model_module": "@jupyter-widgets/base",
            "_model_module_version": "1.2.0",
            "_model_name": "LayoutModel",
            "_view_count": null,
            "_view_module": "@jupyter-widgets/base",
            "_view_module_version": "1.2.0",
            "_view_name": "LayoutView",
            "align_content": null,
            "align_items": null,
            "align_self": null,
            "border": null,
            "bottom": null,
            "display": null,
            "flex": null,
            "flex_flow": null,
            "grid_area": null,
            "grid_auto_columns": null,
            "grid_auto_flow": null,
            "grid_auto_rows": null,
            "grid_column": null,
            "grid_gap": null,
            "grid_row": null,
            "grid_template_areas": null,
            "grid_template_columns": null,
            "grid_template_rows": null,
            "height": null,
            "justify_content": null,
            "justify_items": null,
            "left": null,
            "margin": null,
            "max_height": null,
            "max_width": null,
            "min_height": null,
            "min_width": null,
            "object_fit": null,
            "object_position": null,
            "order": null,
            "overflow": null,
            "overflow_x": null,
            "overflow_y": null,
            "padding": null,
            "right": null,
            "top": null,
            "visibility": null,
            "width": null
          }
        },
        "30399b3d1bce4a4f834cbc79af2e995e": {
          "model_module": "@jupyter-widgets/controls",
          "model_name": "DescriptionStyleModel",
          "model_module_version": "1.5.0",
          "state": {
            "_model_module": "@jupyter-widgets/controls",
            "_model_module_version": "1.5.0",
            "_model_name": "DescriptionStyleModel",
            "_view_count": null,
            "_view_module": "@jupyter-widgets/base",
            "_view_module_version": "1.2.0",
            "_view_name": "StyleView",
            "description_width": ""
          }
        },
        "a599362414714ed68e0cd7c3e9144785": {
          "model_module": "@jupyter-widgets/base",
          "model_name": "LayoutModel",
          "model_module_version": "1.2.0",
          "state": {
            "_model_module": "@jupyter-widgets/base",
            "_model_module_version": "1.2.0",
            "_model_name": "LayoutModel",
            "_view_count": null,
            "_view_module": "@jupyter-widgets/base",
            "_view_module_version": "1.2.0",
            "_view_name": "LayoutView",
            "align_content": null,
            "align_items": null,
            "align_self": null,
            "border": null,
            "bottom": null,
            "display": null,
            "flex": null,
            "flex_flow": null,
            "grid_area": null,
            "grid_auto_columns": null,
            "grid_auto_flow": null,
            "grid_auto_rows": null,
            "grid_column": null,
            "grid_gap": null,
            "grid_row": null,
            "grid_template_areas": null,
            "grid_template_columns": null,
            "grid_template_rows": null,
            "height": null,
            "justify_content": null,
            "justify_items": null,
            "left": null,
            "margin": null,
            "max_height": null,
            "max_width": null,
            "min_height": null,
            "min_width": null,
            "object_fit": null,
            "object_position": null,
            "order": null,
            "overflow": null,
            "overflow_x": null,
            "overflow_y": null,
            "padding": null,
            "right": null,
            "top": null,
            "visibility": null,
            "width": null
          }
        },
        "e07beedb16844944adf9b4a07e69d86e": {
          "model_module": "@jupyter-widgets/controls",
          "model_name": "ProgressStyleModel",
          "model_module_version": "1.5.0",
          "state": {
            "_model_module": "@jupyter-widgets/controls",
            "_model_module_version": "1.5.0",
            "_model_name": "ProgressStyleModel",
            "_view_count": null,
            "_view_module": "@jupyter-widgets/base",
            "_view_module_version": "1.2.0",
            "_view_name": "StyleView",
            "bar_color": null,
            "description_width": ""
          }
        },
        "c233b37a274a491aa19b5394650b22fb": {
          "model_module": "@jupyter-widgets/base",
          "model_name": "LayoutModel",
          "model_module_version": "1.2.0",
          "state": {
            "_model_module": "@jupyter-widgets/base",
            "_model_module_version": "1.2.0",
            "_model_name": "LayoutModel",
            "_view_count": null,
            "_view_module": "@jupyter-widgets/base",
            "_view_module_version": "1.2.0",
            "_view_name": "LayoutView",
            "align_content": null,
            "align_items": null,
            "align_self": null,
            "border": null,
            "bottom": null,
            "display": null,
            "flex": null,
            "flex_flow": null,
            "grid_area": null,
            "grid_auto_columns": null,
            "grid_auto_flow": null,
            "grid_auto_rows": null,
            "grid_column": null,
            "grid_gap": null,
            "grid_row": null,
            "grid_template_areas": null,
            "grid_template_columns": null,
            "grid_template_rows": null,
            "height": null,
            "justify_content": null,
            "justify_items": null,
            "left": null,
            "margin": null,
            "max_height": null,
            "max_width": null,
            "min_height": null,
            "min_width": null,
            "object_fit": null,
            "object_position": null,
            "order": null,
            "overflow": null,
            "overflow_x": null,
            "overflow_y": null,
            "padding": null,
            "right": null,
            "top": null,
            "visibility": null,
            "width": null
          }
        },
        "6670bc968faf471689f21c660dcbc530": {
          "model_module": "@jupyter-widgets/controls",
          "model_name": "DescriptionStyleModel",
          "model_module_version": "1.5.0",
          "state": {
            "_model_module": "@jupyter-widgets/controls",
            "_model_module_version": "1.5.0",
            "_model_name": "DescriptionStyleModel",
            "_view_count": null,
            "_view_module": "@jupyter-widgets/base",
            "_view_module_version": "1.2.0",
            "_view_name": "StyleView",
            "description_width": ""
          }
        },
        "50dbb56a28ce4d378f2960e16bbe9630": {
          "model_module": "@jupyter-widgets/controls",
          "model_name": "HBoxModel",
          "model_module_version": "1.5.0",
          "state": {
            "_dom_classes": [],
            "_model_module": "@jupyter-widgets/controls",
            "_model_module_version": "1.5.0",
            "_model_name": "HBoxModel",
            "_view_count": null,
            "_view_module": "@jupyter-widgets/controls",
            "_view_module_version": "1.5.0",
            "_view_name": "HBoxView",
            "box_style": "",
            "children": [
              "IPY_MODEL_75c5b76812d24fb89ec3c762fcd949f5",
              "IPY_MODEL_7642e4b92ef94208bc216a2306a22c5a",
              "IPY_MODEL_1b8e5f0091a148c59533ae44310ee5cc"
            ],
            "layout": "IPY_MODEL_4e58945ffbfd48c48c1b5a1a39e64db9"
          }
        },
        "75c5b76812d24fb89ec3c762fcd949f5": {
          "model_module": "@jupyter-widgets/controls",
          "model_name": "HTMLModel",
          "model_module_version": "1.5.0",
          "state": {
            "_dom_classes": [],
            "_model_module": "@jupyter-widgets/controls",
            "_model_module_version": "1.5.0",
            "_model_name": "HTMLModel",
            "_view_count": null,
            "_view_module": "@jupyter-widgets/controls",
            "_view_module_version": "1.5.0",
            "_view_name": "HTMLView",
            "description": "",
            "description_tooltip": null,
            "layout": "IPY_MODEL_3e9d79001b7c4a1fa9a50b6268e38697",
            "placeholder": "​",
            "style": "IPY_MODEL_15ed3abf200b47f4a0288a1a52bad18a",
            "value": "model.safetensors: 100%"
          }
        },
        "7642e4b92ef94208bc216a2306a22c5a": {
          "model_module": "@jupyter-widgets/controls",
          "model_name": "FloatProgressModel",
          "model_module_version": "1.5.0",
          "state": {
            "_dom_classes": [],
            "_model_module": "@jupyter-widgets/controls",
            "_model_module_version": "1.5.0",
            "_model_name": "FloatProgressModel",
            "_view_count": null,
            "_view_module": "@jupyter-widgets/controls",
            "_view_module_version": "1.5.0",
            "_view_name": "ProgressView",
            "bar_style": "success",
            "description": "",
            "description_tooltip": null,
            "layout": "IPY_MODEL_c3b699c9d9cb418ba8fe102e0856f624",
            "max": 437955904,
            "min": 0,
            "orientation": "horizontal",
            "style": "IPY_MODEL_c13915263202414ea308688253a53405",
            "value": 437955904
          }
        },
        "1b8e5f0091a148c59533ae44310ee5cc": {
          "model_module": "@jupyter-widgets/controls",
          "model_name": "HTMLModel",
          "model_module_version": "1.5.0",
          "state": {
            "_dom_classes": [],
            "_model_module": "@jupyter-widgets/controls",
            "_model_module_version": "1.5.0",
            "_model_name": "HTMLModel",
            "_view_count": null,
            "_view_module": "@jupyter-widgets/controls",
            "_view_module_version": "1.5.0",
            "_view_name": "HTMLView",
            "description": "",
            "description_tooltip": null,
            "layout": "IPY_MODEL_3cea1ef78f0545f2a994c8a4a5c3f815",
            "placeholder": "​",
            "style": "IPY_MODEL_f4454a89e99e4430b09b73d8ce3814c6",
            "value": " 438M/438M [00:07&lt;00:00, 134MB/s]"
          }
        },
        "4e58945ffbfd48c48c1b5a1a39e64db9": {
          "model_module": "@jupyter-widgets/base",
          "model_name": "LayoutModel",
          "model_module_version": "1.2.0",
          "state": {
            "_model_module": "@jupyter-widgets/base",
            "_model_module_version": "1.2.0",
            "_model_name": "LayoutModel",
            "_view_count": null,
            "_view_module": "@jupyter-widgets/base",
            "_view_module_version": "1.2.0",
            "_view_name": "LayoutView",
            "align_content": null,
            "align_items": null,
            "align_self": null,
            "border": null,
            "bottom": null,
            "display": null,
            "flex": null,
            "flex_flow": null,
            "grid_area": null,
            "grid_auto_columns": null,
            "grid_auto_flow": null,
            "grid_auto_rows": null,
            "grid_column": null,
            "grid_gap": null,
            "grid_row": null,
            "grid_template_areas": null,
            "grid_template_columns": null,
            "grid_template_rows": null,
            "height": null,
            "justify_content": null,
            "justify_items": null,
            "left": null,
            "margin": null,
            "max_height": null,
            "max_width": null,
            "min_height": null,
            "min_width": null,
            "object_fit": null,
            "object_position": null,
            "order": null,
            "overflow": null,
            "overflow_x": null,
            "overflow_y": null,
            "padding": null,
            "right": null,
            "top": null,
            "visibility": null,
            "width": null
          }
        },
        "3e9d79001b7c4a1fa9a50b6268e38697": {
          "model_module": "@jupyter-widgets/base",
          "model_name": "LayoutModel",
          "model_module_version": "1.2.0",
          "state": {
            "_model_module": "@jupyter-widgets/base",
            "_model_module_version": "1.2.0",
            "_model_name": "LayoutModel",
            "_view_count": null,
            "_view_module": "@jupyter-widgets/base",
            "_view_module_version": "1.2.0",
            "_view_name": "LayoutView",
            "align_content": null,
            "align_items": null,
            "align_self": null,
            "border": null,
            "bottom": null,
            "display": null,
            "flex": null,
            "flex_flow": null,
            "grid_area": null,
            "grid_auto_columns": null,
            "grid_auto_flow": null,
            "grid_auto_rows": null,
            "grid_column": null,
            "grid_gap": null,
            "grid_row": null,
            "grid_template_areas": null,
            "grid_template_columns": null,
            "grid_template_rows": null,
            "height": null,
            "justify_content": null,
            "justify_items": null,
            "left": null,
            "margin": null,
            "max_height": null,
            "max_width": null,
            "min_height": null,
            "min_width": null,
            "object_fit": null,
            "object_position": null,
            "order": null,
            "overflow": null,
            "overflow_x": null,
            "overflow_y": null,
            "padding": null,
            "right": null,
            "top": null,
            "visibility": null,
            "width": null
          }
        },
        "15ed3abf200b47f4a0288a1a52bad18a": {
          "model_module": "@jupyter-widgets/controls",
          "model_name": "DescriptionStyleModel",
          "model_module_version": "1.5.0",
          "state": {
            "_model_module": "@jupyter-widgets/controls",
            "_model_module_version": "1.5.0",
            "_model_name": "DescriptionStyleModel",
            "_view_count": null,
            "_view_module": "@jupyter-widgets/base",
            "_view_module_version": "1.2.0",
            "_view_name": "StyleView",
            "description_width": ""
          }
        },
        "c3b699c9d9cb418ba8fe102e0856f624": {
          "model_module": "@jupyter-widgets/base",
          "model_name": "LayoutModel",
          "model_module_version": "1.2.0",
          "state": {
            "_model_module": "@jupyter-widgets/base",
            "_model_module_version": "1.2.0",
            "_model_name": "LayoutModel",
            "_view_count": null,
            "_view_module": "@jupyter-widgets/base",
            "_view_module_version": "1.2.0",
            "_view_name": "LayoutView",
            "align_content": null,
            "align_items": null,
            "align_self": null,
            "border": null,
            "bottom": null,
            "display": null,
            "flex": null,
            "flex_flow": null,
            "grid_area": null,
            "grid_auto_columns": null,
            "grid_auto_flow": null,
            "grid_auto_rows": null,
            "grid_column": null,
            "grid_gap": null,
            "grid_row": null,
            "grid_template_areas": null,
            "grid_template_columns": null,
            "grid_template_rows": null,
            "height": null,
            "justify_content": null,
            "justify_items": null,
            "left": null,
            "margin": null,
            "max_height": null,
            "max_width": null,
            "min_height": null,
            "min_width": null,
            "object_fit": null,
            "object_position": null,
            "order": null,
            "overflow": null,
            "overflow_x": null,
            "overflow_y": null,
            "padding": null,
            "right": null,
            "top": null,
            "visibility": null,
            "width": null
          }
        },
        "c13915263202414ea308688253a53405": {
          "model_module": "@jupyter-widgets/controls",
          "model_name": "ProgressStyleModel",
          "model_module_version": "1.5.0",
          "state": {
            "_model_module": "@jupyter-widgets/controls",
            "_model_module_version": "1.5.0",
            "_model_name": "ProgressStyleModel",
            "_view_count": null,
            "_view_module": "@jupyter-widgets/base",
            "_view_module_version": "1.2.0",
            "_view_name": "StyleView",
            "bar_color": null,
            "description_width": ""
          }
        },
        "3cea1ef78f0545f2a994c8a4a5c3f815": {
          "model_module": "@jupyter-widgets/base",
          "model_name": "LayoutModel",
          "model_module_version": "1.2.0",
          "state": {
            "_model_module": "@jupyter-widgets/base",
            "_model_module_version": "1.2.0",
            "_model_name": "LayoutModel",
            "_view_count": null,
            "_view_module": "@jupyter-widgets/base",
            "_view_module_version": "1.2.0",
            "_view_name": "LayoutView",
            "align_content": null,
            "align_items": null,
            "align_self": null,
            "border": null,
            "bottom": null,
            "display": null,
            "flex": null,
            "flex_flow": null,
            "grid_area": null,
            "grid_auto_columns": null,
            "grid_auto_flow": null,
            "grid_auto_rows": null,
            "grid_column": null,
            "grid_gap": null,
            "grid_row": null,
            "grid_template_areas": null,
            "grid_template_columns": null,
            "grid_template_rows": null,
            "height": null,
            "justify_content": null,
            "justify_items": null,
            "left": null,
            "margin": null,
            "max_height": null,
            "max_width": null,
            "min_height": null,
            "min_width": null,
            "object_fit": null,
            "object_position": null,
            "order": null,
            "overflow": null,
            "overflow_x": null,
            "overflow_y": null,
            "padding": null,
            "right": null,
            "top": null,
            "visibility": null,
            "width": null
          }
        },
        "f4454a89e99e4430b09b73d8ce3814c6": {
          "model_module": "@jupyter-widgets/controls",
          "model_name": "DescriptionStyleModel",
          "model_module_version": "1.5.0",
          "state": {
            "_model_module": "@jupyter-widgets/controls",
            "_model_module_version": "1.5.0",
            "_model_name": "DescriptionStyleModel",
            "_view_count": null,
            "_view_module": "@jupyter-widgets/base",
            "_view_module_version": "1.2.0",
            "_view_name": "StyleView",
            "description_width": ""
          }
        }
      }
    }
  },
  "cells": [
    {
      "cell_type": "markdown",
      "metadata": {
        "id": "view-in-github",
        "colab_type": "text"
      },
      "source": [
        "<a href=\"https://colab.research.google.com/github/rohinikanth/RAG/blob/main/RAG_with_HuggingFace.ipynb\" target=\"_parent\"><img src=\"https://colab.research.google.com/assets/colab-badge.svg\" alt=\"Open In Colab\"/></a>"
      ]
    },
    {
      "cell_type": "code",
      "execution_count": 1,
      "metadata": {
        "colab": {
          "base_uri": "https://localhost:8080/"
        },
        "collapsed": true,
        "id": "hWRRmcieR9QC",
        "outputId": "adf2b520-8a3d-4b72-f432-134799f9b4fd"
      },
      "outputs": [
        {
          "output_type": "stream",
          "name": "stdout",
          "text": [
            "\u001b[2K   \u001b[90m━━━━━━━━━━━━━━━━━━━━━━━━━━━━━━━━━━━━━━━━\u001b[0m \u001b[32m664.8/664.8 MB\u001b[0m \u001b[31m2.3 MB/s\u001b[0m eta \u001b[36m0:00:00\u001b[0m\n",
            "\u001b[?25hDownloading nvidia_cufft_cu12-11.2.1.3-py3-none-manylinux2014_x86_64.whl (211.5 MB)\n",
            "\u001b[2K   \u001b[90m━━━━━━━━━━━━━━━━━━━━━━━━━━━━━━━━━━━━━━━━\u001b[0m \u001b[32m211.5/211.5 MB\u001b[0m \u001b[31m5.5 MB/s\u001b[0m eta \u001b[36m0:00:00\u001b[0m\n",
            "\u001b[?25hDownloading nvidia_curand_cu12-10.3.5.147-py3-none-manylinux2014_x86_64.whl (56.3 MB)\n",
            "\u001b[2K   \u001b[90m━━━━━━━━━━━━━━━━━━━━━━━━━━━━━━━━━━━━━━━━\u001b[0m \u001b[32m56.3/56.3 MB\u001b[0m \u001b[31m12.5 MB/s\u001b[0m eta \u001b[36m0:00:00\u001b[0m\n",
            "\u001b[?25hDownloading nvidia_cusolver_cu12-11.6.1.9-py3-none-manylinux2014_x86_64.whl (127.9 MB)\n",
            "\u001b[2K   \u001b[90m━━━━━━━━━━━━━━━━━━━━━━━━━━━━━━━━━━━━━━━━\u001b[0m \u001b[32m127.9/127.9 MB\u001b[0m \u001b[31m5.9 MB/s\u001b[0m eta \u001b[36m0:00:00\u001b[0m\n",
            "\u001b[?25hDownloading nvidia_cusparse_cu12-12.3.1.170-py3-none-manylinux2014_x86_64.whl (207.5 MB)\n",
            "\u001b[2K   \u001b[90m━━━━━━━━━━━━━━━━━━━━━━━━━━━━━━━━━━━━━━━━\u001b[0m \u001b[32m207.5/207.5 MB\u001b[0m \u001b[31m5.9 MB/s\u001b[0m eta \u001b[36m0:00:00\u001b[0m\n",
            "\u001b[?25hDownloading nvidia_nvjitlink_cu12-12.4.127-py3-none-manylinux2014_x86_64.whl (21.1 MB)\n",
            "\u001b[2K   \u001b[90m━━━━━━━━━━━━━━━━━━━━━━━━━━━━━━━━━━━━━━━━\u001b[0m \u001b[32m21.1/21.1 MB\u001b[0m \u001b[31m57.3 MB/s\u001b[0m eta \u001b[36m0:00:00\u001b[0m\n",
            "\u001b[?25hDownloading faiss_cpu-1.11.0-cp311-cp311-manylinux_2_28_x86_64.whl (31.3 MB)\n",
            "\u001b[2K   \u001b[90m━━━━━━━━━━━━━━━━━━━━━━━━━━━━━━━━━━━━━━━━\u001b[0m \u001b[32m31.3/31.3 MB\u001b[0m \u001b[31m15.7 MB/s\u001b[0m eta \u001b[36m0:00:00\u001b[0m\n",
            "\u001b[?25hInstalling collected packages: nvidia-nvjitlink-cu12, nvidia-curand-cu12, nvidia-cufft-cu12, nvidia-cuda-runtime-cu12, nvidia-cuda-nvrtc-cu12, nvidia-cuda-cupti-cu12, nvidia-cublas-cu12, faiss-cpu, nvidia-cusparse-cu12, nvidia-cudnn-cu12, nvidia-cusolver-cu12\n",
            "Successfully installed faiss-cpu-1.11.0 nvidia-cublas-cu12-12.4.5.8 nvidia-cuda-cupti-cu12-12.4.127 nvidia-cuda-nvrtc-cu12-12.4.127 nvidia-cuda-runtime-cu12-12.4.127 nvidia-cudnn-cu12-9.1.0.70 nvidia-cufft-cu12-11.2.1.3 nvidia-curand-cu12-10.3.5.147 nvidia-cusolver-cu12-11.6.1.9 nvidia-cusparse-cu12-12.3.1.170 nvidia-nvjitlink-cu12-12.4.127\n"
          ]
        }
      ],
      "source": [
        "!pip install --user transformers datasets torch faiss-cpu"
      ]
    },
    {
      "cell_type": "code",
      "source": [
        "!pip install --user matplotlib scikit-learn"
      ],
      "metadata": {
        "colab": {
          "base_uri": "https://localhost:8080/"
        },
        "collapsed": true,
        "id": "1zTCE9MaSQub",
        "outputId": "44efec3c-a12e-465e-c186-b8f4192151c9"
      },
      "execution_count": 2,
      "outputs": [
        {
          "output_type": "stream",
          "name": "stdout",
          "text": [
            "Requirement already satisfied: matplotlib in /usr/local/lib/python3.11/dist-packages (3.10.0)\n",
            "Requirement already satisfied: scikit-learn in /usr/local/lib/python3.11/dist-packages (1.6.1)\n",
            "Requirement already satisfied: contourpy>=1.0.1 in /usr/local/lib/python3.11/dist-packages (from matplotlib) (1.3.2)\n",
            "Requirement already satisfied: cycler>=0.10 in /usr/local/lib/python3.11/dist-packages (from matplotlib) (0.12.1)\n",
            "Requirement already satisfied: fonttools>=4.22.0 in /usr/local/lib/python3.11/dist-packages (from matplotlib) (4.58.1)\n",
            "Requirement already satisfied: kiwisolver>=1.3.1 in /usr/local/lib/python3.11/dist-packages (from matplotlib) (1.4.8)\n",
            "Requirement already satisfied: numpy>=1.23 in /usr/local/lib/python3.11/dist-packages (from matplotlib) (2.0.2)\n",
            "Requirement already satisfied: packaging>=20.0 in /usr/local/lib/python3.11/dist-packages (from matplotlib) (24.2)\n",
            "Requirement already satisfied: pillow>=8 in /usr/local/lib/python3.11/dist-packages (from matplotlib) (11.2.1)\n",
            "Requirement already satisfied: pyparsing>=2.3.1 in /usr/local/lib/python3.11/dist-packages (from matplotlib) (3.2.3)\n",
            "Requirement already satisfied: python-dateutil>=2.7 in /usr/local/lib/python3.11/dist-packages (from matplotlib) (2.9.0.post0)\n",
            "Requirement already satisfied: scipy>=1.6.0 in /usr/local/lib/python3.11/dist-packages (from scikit-learn) (1.15.3)\n",
            "Requirement already satisfied: joblib>=1.2.0 in /usr/local/lib/python3.11/dist-packages (from scikit-learn) (1.5.1)\n",
            "Requirement already satisfied: threadpoolctl>=3.1.0 in /usr/local/lib/python3.11/dist-packages (from scikit-learn) (3.6.0)\n",
            "Requirement already satisfied: six>=1.5 in /usr/local/lib/python3.11/dist-packages (from python-dateutil>=2.7->matplotlib) (1.17.0)\n"
          ]
        }
      ]
    },
    {
      "cell_type": "code",
      "source": [
        "!pip list"
      ],
      "metadata": {
        "colab": {
          "base_uri": "https://localhost:8080/"
        },
        "collapsed": true,
        "id": "tqtEjat6Vj0t",
        "outputId": "8676886c-f0be-4e79-b19e-ebeac80c171a"
      },
      "execution_count": 3,
      "outputs": [
        {
          "output_type": "stream",
          "name": "stdout",
          "text": [
            "Package                               Version\n",
            "------------------------------------- ------------------\n",
            "absl-py                               1.4.0\n",
            "accelerate                            1.7.0\n",
            "aiofiles                              24.1.0\n",
            "aiohappyeyeballs                      2.6.1\n",
            "aiohttp                               3.11.15\n",
            "aiosignal                             1.3.2\n",
            "alabaster                             1.0.0\n",
            "albucore                              0.0.24\n",
            "albumentations                        2.0.8\n",
            "ale-py                                0.11.1\n",
            "altair                                5.5.0\n",
            "annotated-types                       0.7.0\n",
            "antlr4-python3-runtime                4.9.3\n",
            "anyio                                 4.9.0\n",
            "argon2-cffi                           25.1.0\n",
            "argon2-cffi-bindings                  21.2.0\n",
            "array_record                          0.7.2\n",
            "arviz                                 0.21.0\n",
            "astropy                               7.1.0\n",
            "astropy-iers-data                     0.2025.6.2.0.38.23\n",
            "astunparse                            1.6.3\n",
            "atpublic                              5.1\n",
            "attrs                                 25.3.0\n",
            "audioread                             3.0.1\n",
            "autograd                              1.8.0\n",
            "babel                                 2.17.0\n",
            "backcall                              0.2.0\n",
            "backports.tarfile                     1.2.0\n",
            "beautifulsoup4                        4.13.4\n",
            "betterproto                           2.0.0b6\n",
            "bigframes                             2.5.0\n",
            "bigquery-magics                       0.9.0\n",
            "bleach                                6.2.0\n",
            "blinker                               1.9.0\n",
            "blis                                  1.3.0\n",
            "blobfile                              3.0.0\n",
            "blosc2                                3.3.4\n",
            "bokeh                                 3.7.3\n",
            "Bottleneck                            1.4.2\n",
            "bqplot                                0.12.45\n",
            "branca                                0.8.1\n",
            "build                                 1.2.2.post1\n",
            "CacheControl                          0.14.3\n",
            "cachetools                            5.5.2\n",
            "catalogue                             2.0.10\n",
            "certifi                               2025.4.26\n",
            "cffi                                  1.17.1\n",
            "chardet                               5.2.0\n",
            "charset-normalizer                    3.4.2\n",
            "chex                                  0.1.89\n",
            "clarabel                              0.11.0\n",
            "click                                 8.2.1\n",
            "cloudpathlib                          0.21.1\n",
            "cloudpickle                           3.1.1\n",
            "cmake                                 3.31.6\n",
            "cmdstanpy                             1.2.5\n",
            "colorcet                              3.1.0\n",
            "colorlover                            0.3.0\n",
            "colour                                0.1.5\n",
            "community                             1.0.0b1\n",
            "confection                            0.1.5\n",
            "cons                                  0.4.6\n",
            "contourpy                             1.3.2\n",
            "cramjam                               2.10.0\n",
            "cryptography                          43.0.3\n",
            "cuda-python                           12.6.2.post1\n",
            "cudf-cu12                             25.2.1\n",
            "cudf-polars-cu12                      25.2.2\n",
            "cufflinks                             0.17.3\n",
            "cuml-cu12                             25.2.1\n",
            "cupy-cuda12x                          13.3.0\n",
            "curl_cffi                             0.11.1\n",
            "cuvs-cu12                             25.2.1\n",
            "cvxopt                                1.3.2\n",
            "cvxpy                                 1.6.5\n",
            "cycler                                0.12.1\n",
            "cyipopt                               1.5.0\n",
            "cymem                                 2.0.11\n",
            "Cython                                3.0.12\n",
            "dask                                  2024.12.1\n",
            "dask-cuda                             25.2.0\n",
            "dask-cudf-cu12                        25.2.2\n",
            "dask-expr                             1.1.21\n",
            "dataproc-spark-connect                0.7.5\n",
            "datascience                           0.17.6\n",
            "datasets                              2.14.4\n",
            "db-dtypes                             1.4.3\n",
            "dbus-python                           1.2.18\n",
            "debugpy                               1.8.0\n",
            "decorator                             4.4.2\n",
            "defusedxml                            0.7.1\n",
            "diffusers                             0.33.1\n",
            "dill                                  0.3.7\n",
            "distributed                           2024.12.1\n",
            "distributed-ucxx-cu12                 0.42.0\n",
            "distro                                1.9.0\n",
            "dlib                                  19.24.6\n",
            "dm-tree                               0.1.9\n",
            "docker-pycreds                        0.4.0\n",
            "docstring_parser                      0.16\n",
            "docutils                              0.21.2\n",
            "dopamine_rl                           4.1.2\n",
            "duckdb                                1.2.2\n",
            "earthengine-api                       1.5.18\n",
            "easydict                              1.13\n",
            "editdistance                          0.8.1\n",
            "eerepr                                0.1.2\n",
            "einops                                0.8.1\n",
            "en_core_web_sm                        3.8.0\n",
            "entrypoints                           0.4\n",
            "et_xmlfile                            2.0.0\n",
            "etils                                 1.12.2\n",
            "etuples                               0.3.9\n",
            "faiss-cpu                             1.11.0\n",
            "Farama-Notifications                  0.0.4\n",
            "fastai                                2.7.19\n",
            "fastapi                               0.115.12\n",
            "fastcore                              1.7.29\n",
            "fastdownload                          0.0.7\n",
            "fastjsonschema                        2.21.1\n",
            "fastprogress                          1.0.3\n",
            "fastrlock                             0.8.3\n",
            "ffmpy                                 0.6.0\n",
            "filelock                              3.18.0\n",
            "firebase-admin                        6.8.0\n",
            "Flask                                 3.1.1\n",
            "flatbuffers                           25.2.10\n",
            "flax                                  0.10.6\n",
            "folium                                0.19.7\n",
            "fonttools                             4.58.1\n",
            "frozendict                            2.4.6\n",
            "frozenlist                            1.6.0\n",
            "fsspec                                2025.3.2\n",
            "future                                1.0.0\n",
            "gast                                  0.6.0\n",
            "gcsfs                                 2025.3.2\n",
            "GDAL                                  3.8.4\n",
            "gdown                                 5.2.0\n",
            "geemap                                0.35.3\n",
            "geocoder                              1.38.1\n",
            "geographiclib                         2.0\n",
            "geopandas                             1.0.1\n",
            "geopy                                 2.4.1\n",
            "gin-config                            0.5.0\n",
            "gitdb                                 4.0.12\n",
            "GitPython                             3.1.44\n",
            "glob2                                 0.7\n",
            "google                                2.0.3\n",
            "google-ai-generativelanguage          0.6.15\n",
            "google-api-core                       2.25.0\n",
            "google-api-python-client              2.171.0\n",
            "google-auth                           2.38.0\n",
            "google-auth-httplib2                  0.2.0\n",
            "google-auth-oauthlib                  1.2.2\n",
            "google-cloud-aiplatform               1.95.1\n",
            "google-cloud-bigquery                 3.34.0\n",
            "google-cloud-bigquery-connection      1.18.2\n",
            "google-cloud-bigquery-storage         2.32.0\n",
            "google-cloud-core                     2.4.3\n",
            "google-cloud-dataproc                 5.18.1\n",
            "google-cloud-datastore                2.21.0\n",
            "google-cloud-firestore                2.21.0\n",
            "google-cloud-functions                1.20.3\n",
            "google-cloud-iam                      2.19.0\n",
            "google-cloud-language                 2.17.1\n",
            "google-cloud-resource-manager         1.14.2\n",
            "google-cloud-spanner                  3.55.0\n",
            "google-cloud-storage                  2.19.0\n",
            "google-cloud-translate                3.20.2\n",
            "google-colab                          1.0.0\n",
            "google-crc32c                         1.7.1\n",
            "google-genai                          1.18.0\n",
            "google-generativeai                   0.8.5\n",
            "google-pasta                          0.2.0\n",
            "google-resumable-media                2.7.2\n",
            "googleapis-common-protos              1.70.0\n",
            "googledrivedownloader                 1.1.0\n",
            "gradio                                5.31.0\n",
            "gradio_client                         1.10.1\n",
            "graphviz                              0.20.3\n",
            "greenlet                              3.2.2\n",
            "groovy                                0.1.2\n",
            "grpc-google-iam-v1                    0.14.2\n",
            "grpc-interceptor                      0.15.4\n",
            "grpcio                                1.72.1\n",
            "grpcio-status                         1.71.0\n",
            "grpclib                               0.4.8\n",
            "gspread                               6.2.1\n",
            "gspread-dataframe                     4.0.0\n",
            "gym                                   0.25.2\n",
            "gym-notices                           0.0.8\n",
            "gymnasium                             1.1.1\n",
            "h11                                   0.16.0\n",
            "h2                                    4.2.0\n",
            "h5netcdf                              1.6.1\n",
            "h5py                                  3.13.0\n",
            "hdbscan                               0.8.40\n",
            "hf_transfer                           0.1.9\n",
            "hf-xet                                1.1.2\n",
            "highspy                               1.10.0\n",
            "holidays                              0.74\n",
            "holoviews                             1.20.2\n",
            "hpack                                 4.1.0\n",
            "html5lib                              1.1\n",
            "httpcore                              1.0.9\n",
            "httpimport                            1.4.1\n",
            "httplib2                              0.22.0\n",
            "httpx                                 0.28.1\n",
            "huggingface-hub                       0.32.4\n",
            "humanize                              4.12.3\n",
            "hyperframe                            6.1.0\n",
            "hyperopt                              0.2.7\n",
            "ibis-framework                        9.5.0\n",
            "idna                                  3.10\n",
            "imageio                               2.37.0\n",
            "imageio-ffmpeg                        0.6.0\n",
            "imagesize                             1.4.1\n",
            "imbalanced-learn                      0.13.0\n",
            "immutabledict                         4.2.1\n",
            "importlib_metadata                    8.7.0\n",
            "importlib_resources                   6.5.2\n",
            "imutils                               0.5.4\n",
            "inflect                               7.5.0\n",
            "iniconfig                             2.1.0\n",
            "intel-cmplr-lib-ur                    2025.1.1\n",
            "intel-openmp                          2025.1.1\n",
            "ipyevents                             2.0.2\n",
            "ipyfilechooser                        0.6.0\n",
            "ipykernel                             6.17.1\n",
            "ipyleaflet                            0.19.2\n",
            "ipyparallel                           8.8.0\n",
            "ipython                               7.34.0\n",
            "ipython-genutils                      0.2.0\n",
            "ipython-sql                           0.5.0\n",
            "ipytree                               0.2.2\n",
            "ipywidgets                            7.7.1\n",
            "itsdangerous                          2.2.0\n",
            "jaraco.classes                        3.4.0\n",
            "jaraco.context                        6.0.1\n",
            "jaraco.functools                      4.1.0\n",
            "jax                                   0.5.2\n",
            "jax-cuda12-pjrt                       0.5.1\n",
            "jax-cuda12-plugin                     0.5.1\n",
            "jaxlib                                0.5.1\n",
            "jeepney                               0.9.0\n",
            "jieba                                 0.42.1\n",
            "Jinja2                                3.1.6\n",
            "jiter                                 0.10.0\n",
            "joblib                                1.5.1\n",
            "jsonpatch                             1.33\n",
            "jsonpickle                            4.1.1\n",
            "jsonpointer                           3.0.0\n",
            "jsonschema                            4.24.0\n",
            "jsonschema-specifications             2025.4.1\n",
            "jupyter-client                        6.1.12\n",
            "jupyter-console                       6.1.0\n",
            "jupyter_core                          5.8.1\n",
            "jupyter_kernel_gateway                2.5.2\n",
            "jupyter-leaflet                       0.19.2\n",
            "jupyter-server                        1.16.0\n",
            "jupyterlab_pygments                   0.3.0\n",
            "jupyterlab_widgets                    3.0.15\n",
            "jupytext                              1.17.2\n",
            "kaggle                                1.7.4.5\n",
            "kagglehub                             0.3.12\n",
            "keras                                 3.8.0\n",
            "keras-hub                             0.18.1\n",
            "keras-nlp                             0.18.1\n",
            "keyring                               25.6.0\n",
            "keyrings.google-artifactregistry-auth 1.1.2\n",
            "kiwisolver                            1.4.8\n",
            "langchain                             0.3.25\n",
            "langchain-core                        0.3.63\n",
            "langchain-text-splitters              0.3.8\n",
            "langcodes                             3.5.0\n",
            "langsmith                             0.3.44\n",
            "language_data                         1.3.0\n",
            "launchpadlib                          1.10.16\n",
            "lazr.restfulclient                    0.14.4\n",
            "lazr.uri                              1.0.6\n",
            "lazy_loader                           0.4\n",
            "libclang                              18.1.1\n",
            "libcudf-cu12                          25.2.1\n",
            "libcugraph-cu12                       25.2.0\n",
            "libcuml-cu12                          25.2.1\n",
            "libcuvs-cu12                          25.2.1\n",
            "libkvikio-cu12                        25.2.1\n",
            "libpysal                              4.13.0\n",
            "libraft-cu12                          25.2.0\n",
            "librosa                               0.11.0\n",
            "libucx-cu12                           1.18.1\n",
            "libucxx-cu12                          0.42.0\n",
            "lightgbm                              4.5.0\n",
            "linkify-it-py                         2.0.3\n",
            "llvmlite                              0.43.0\n",
            "locket                                1.0.0\n",
            "logical-unification                   0.4.6\n",
            "lxml                                  5.4.0\n",
            "Mako                                  1.1.3\n",
            "marisa-trie                           1.2.1\n",
            "Markdown                              3.8\n",
            "markdown-it-py                        3.0.0\n",
            "MarkupSafe                            3.0.2\n",
            "matplotlib                            3.10.0\n",
            "matplotlib-inline                     0.1.7\n",
            "matplotlib-venn                       1.1.2\n",
            "mdit-py-plugins                       0.4.2\n",
            "mdurl                                 0.1.2\n",
            "miniKanren                            1.0.3\n",
            "missingno                             0.5.2\n",
            "mistune                               3.1.3\n",
            "mizani                                0.13.5\n",
            "mkl                                   2025.0.1\n",
            "ml-dtypes                             0.4.1\n",
            "mlxtend                               0.23.4\n",
            "more-itertools                        10.7.0\n",
            "moviepy                               1.0.3\n",
            "mpmath                                1.3.0\n",
            "msgpack                               1.1.0\n",
            "multidict                             6.4.4\n",
            "multipledispatch                      1.0.0\n",
            "multiprocess                          0.70.15\n",
            "multitasking                          0.0.11\n",
            "murmurhash                            1.0.13\n",
            "music21                               9.3.0\n",
            "namex                                 0.1.0\n",
            "narwhals                              1.41.0\n",
            "natsort                               8.4.0\n",
            "nbclassic                             1.3.1\n",
            "nbclient                              0.10.2\n",
            "nbconvert                             7.16.6\n",
            "nbformat                              5.10.4\n",
            "ndindex                               1.10.0\n",
            "nest-asyncio                          1.6.0\n",
            "networkx                              3.5\n",
            "nibabel                               5.3.2\n",
            "nltk                                  3.9.1\n",
            "notebook                              6.5.7\n",
            "notebook_shim                         0.2.4\n",
            "numba                                 0.60.0\n",
            "numba-cuda                            0.2.0\n",
            "numexpr                               2.10.2\n",
            "numpy                                 2.0.2\n",
            "nvidia-cublas-cu12                    12.4.5.8\n",
            "nvidia-cuda-cupti-cu12                12.4.127\n",
            "nvidia-cuda-nvcc-cu12                 12.5.82\n",
            "nvidia-cuda-nvrtc-cu12                12.4.127\n",
            "nvidia-cuda-runtime-cu12              12.4.127\n",
            "nvidia-cudnn-cu12                     9.1.0.70\n",
            "nvidia-cufft-cu12                     11.2.1.3\n",
            "nvidia-curand-cu12                    10.3.5.147\n",
            "nvidia-cusolver-cu12                  11.6.1.9\n",
            "nvidia-cusparse-cu12                  12.3.1.170\n",
            "nvidia-cusparselt-cu12                0.6.2\n",
            "nvidia-ml-py                          12.575.51\n",
            "nvidia-nccl-cu12                      2.21.5\n",
            "nvidia-nvcomp-cu12                    4.2.0.11\n",
            "nvidia-nvjitlink-cu12                 12.4.127\n",
            "nvidia-nvtx-cu12                      12.4.127\n",
            "nvtx                                  0.2.12\n",
            "nx-cugraph-cu12                       25.2.0\n",
            "oauth2client                          4.1.3\n",
            "oauthlib                              3.2.2\n",
            "omegaconf                             2.3.0\n",
            "openai                                1.84.0\n",
            "opencv-contrib-python                 4.11.0.86\n",
            "opencv-python                         4.11.0.86\n",
            "opencv-python-headless                4.11.0.86\n",
            "openpyxl                              3.1.5\n",
            "opt_einsum                            3.4.0\n",
            "optax                                 0.2.4\n",
            "optree                                0.16.0\n",
            "orbax-checkpoint                      0.11.13\n",
            "orjson                                3.10.18\n",
            "osqp                                  1.0.4\n",
            "packaging                             24.2\n",
            "pandas                                2.2.2\n",
            "pandas-datareader                     0.10.0\n",
            "pandas-gbq                            0.29.0\n",
            "pandas-stubs                          2.2.2.240909\n",
            "pandocfilters                         1.5.1\n",
            "panel                                 1.7.1\n",
            "param                                 2.2.0\n",
            "parso                                 0.8.4\n",
            "parsy                                 2.1\n",
            "partd                                 1.4.2\n",
            "pathlib                               1.0.1\n",
            "patsy                                 1.0.1\n",
            "peewee                                3.18.1\n",
            "peft                                  0.15.2\n",
            "pexpect                               4.9.0\n",
            "pickleshare                           0.7.5\n",
            "pillow                                11.2.1\n",
            "pip                                   24.1.2\n",
            "platformdirs                          4.3.8\n",
            "plotly                                5.24.1\n",
            "plotnine                              0.14.5\n",
            "pluggy                                1.6.0\n",
            "ply                                   3.11\n",
            "polars                                1.21.0\n",
            "pooch                                 1.8.2\n",
            "portpicker                            1.5.2\n",
            "preshed                               3.0.10\n",
            "prettytable                           3.16.0\n",
            "proglog                               0.1.12\n",
            "progressbar2                          4.5.0\n",
            "prometheus_client                     0.22.1\n",
            "promise                               2.3\n",
            "prompt_toolkit                        3.0.51\n",
            "propcache                             0.3.1\n",
            "prophet                               1.1.7\n",
            "proto-plus                            1.26.1\n",
            "protobuf                              5.29.5\n",
            "psutil                                5.9.5\n",
            "psycopg2                              2.9.10\n",
            "ptyprocess                            0.7.0\n",
            "py-cpuinfo                            9.0.0\n",
            "py4j                                  0.10.9.7\n",
            "pyarrow                               18.1.0\n",
            "pyasn1                                0.6.1\n",
            "pyasn1_modules                        0.4.2\n",
            "pycairo                               1.28.0\n",
            "pycocotools                           2.0.9\n",
            "pycparser                             2.22\n",
            "pycryptodomex                         3.23.0\n",
            "pydantic                              2.11.5\n",
            "pydantic_core                         2.33.2\n",
            "pydata-google-auth                    1.9.1\n",
            "pydot                                 3.0.4\n",
            "pydotplus                             2.0.2\n",
            "PyDrive                               1.3.1\n",
            "PyDrive2                              1.21.3\n",
            "pydub                                 0.25.1\n",
            "pyerfa                                2.0.1.5\n",
            "pygame                                2.6.1\n",
            "pygit2                                1.18.0\n",
            "Pygments                              2.19.1\n",
            "PyGObject                             3.42.0\n",
            "PyJWT                                 2.10.1\n",
            "pylibcudf-cu12                        25.2.1\n",
            "pylibcugraph-cu12                     25.2.0\n",
            "pylibraft-cu12                        25.2.0\n",
            "pymc                                  5.23.0\n",
            "pymystem3                             0.2.0\n",
            "pynndescent                           0.5.13\n",
            "pynvjitlink-cu12                      0.6.0\n",
            "pynvml                                12.0.0\n",
            "pyogrio                               0.11.0\n",
            "pyomo                                 6.9.2\n",
            "PyOpenGL                              3.1.9\n",
            "pyOpenSSL                             24.2.1\n",
            "pyparsing                             3.2.3\n",
            "pyperclip                             1.9.0\n",
            "pyproj                                3.7.1\n",
            "pyproject_hooks                       1.2.0\n",
            "pyshp                                 2.3.1\n",
            "PySocks                               1.7.1\n",
            "pyspark                               3.5.1\n",
            "pytensor                              2.31.3\n",
            "pytest                                8.3.5\n",
            "python-apt                            0.0.0\n",
            "python-box                            7.3.2\n",
            "python-dateutil                       2.9.0.post0\n",
            "python-louvain                        0.16\n",
            "python-multipart                      0.0.20\n",
            "python-slugify                        8.0.4\n",
            "python-snappy                         0.7.3\n",
            "python-utils                          3.9.1\n",
            "pytz                                  2025.2\n",
            "pyviz_comms                           3.0.4\n",
            "PyWavelets                            1.8.0\n",
            "PyYAML                                6.0.2\n",
            "pyzmq                                 24.0.1\n",
            "raft-dask-cu12                        25.2.0\n",
            "rapids-dask-dependency                25.2.0\n",
            "ratelim                               0.1.6\n",
            "referencing                           0.36.2\n",
            "regex                                 2024.11.6\n",
            "requests                              2.32.3\n",
            "requests-oauthlib                     2.0.0\n",
            "requests-toolbelt                     1.0.0\n",
            "requirements-parser                   0.9.0\n",
            "rich                                  13.9.4\n",
            "rmm-cu12                              25.2.0\n",
            "roman-numerals-py                     3.1.0\n",
            "rpds-py                               0.25.1\n",
            "rpy2                                  3.5.17\n",
            "rsa                                   4.9.1\n",
            "ruff                                  0.11.12\n",
            "safehttpx                             0.1.6\n",
            "safetensors                           0.5.3\n",
            "scikit-image                          0.25.2\n",
            "scikit-learn                          1.6.1\n",
            "scipy                                 1.15.3\n",
            "scooby                                0.10.1\n",
            "scs                                   3.2.7.post2\n",
            "seaborn                               0.13.2\n",
            "SecretStorage                         3.3.3\n",
            "semantic-version                      2.10.0\n",
            "Send2Trash                            1.8.3\n",
            "sentence-transformers                 4.1.0\n",
            "sentencepiece                         0.2.0\n",
            "sentry-sdk                            2.29.1\n",
            "setproctitle                          1.3.6\n",
            "setuptools                            75.2.0\n",
            "shap                                  0.47.2\n",
            "shapely                               2.1.1\n",
            "shellingham                           1.5.4\n",
            "simple-parsing                        0.1.7\n",
            "simplejson                            3.20.1\n",
            "simsimd                               6.4.7\n",
            "six                                   1.17.0\n",
            "sklearn-compat                        0.1.3\n",
            "sklearn-pandas                        2.2.0\n",
            "slicer                                0.0.8\n",
            "smart-open                            7.1.0\n",
            "smmap                                 5.0.2\n",
            "sniffio                               1.3.1\n",
            "snowballstemmer                       3.0.1\n",
            "sortedcontainers                      2.4.0\n",
            "soundfile                             0.13.1\n",
            "soupsieve                             2.7\n",
            "soxr                                  0.5.0.post1\n",
            "spacy                                 3.8.7\n",
            "spacy-legacy                          3.0.12\n",
            "spacy-loggers                         1.0.5\n",
            "spanner-graph-notebook                1.1.6\n",
            "Sphinx                                8.2.3\n",
            "sphinxcontrib-applehelp               2.0.0\n",
            "sphinxcontrib-devhelp                 2.0.0\n",
            "sphinxcontrib-htmlhelp                2.1.0\n",
            "sphinxcontrib-jsmath                  1.0.1\n",
            "sphinxcontrib-qthelp                  2.0.0\n",
            "sphinxcontrib-serializinghtml         2.0.0\n",
            "SQLAlchemy                            2.0.41\n",
            "sqlglot                               25.20.2\n",
            "sqlparse                              0.5.3\n",
            "srsly                                 2.5.1\n",
            "stanio                                0.5.1\n",
            "starlette                             0.46.2\n",
            "statsmodels                           0.14.4\n",
            "stringzilla                           3.12.5\n",
            "stumpy                                1.13.0\n",
            "sympy                                 1.13.1\n",
            "tables                                3.10.2\n",
            "tabulate                              0.9.0\n",
            "tbb                                   2022.1.0\n",
            "tblib                                 3.1.0\n",
            "tcmlib                                1.3.0\n",
            "tenacity                              9.1.2\n",
            "tensorboard                           2.18.0\n",
            "tensorboard-data-server               0.7.2\n",
            "tensorflow                            2.18.0\n",
            "tensorflow-datasets                   4.9.9\n",
            "tensorflow_decision_forests           1.11.0\n",
            "tensorflow-hub                        0.16.1\n",
            "tensorflow-io-gcs-filesystem          0.37.1\n",
            "tensorflow-metadata                   1.17.1\n",
            "tensorflow-probability                0.25.0\n",
            "tensorflow-text                       2.18.1\n",
            "tensorstore                           0.1.74\n",
            "termcolor                             3.1.0\n",
            "terminado                             0.18.1\n",
            "text-unidecode                        1.3\n",
            "textblob                              0.19.0\n",
            "tf_keras                              2.18.0\n",
            "tf-slim                               1.1.0\n",
            "thinc                                 8.3.6\n",
            "threadpoolctl                         3.6.0\n",
            "tifffile                              2025.6.1\n",
            "tiktoken                              0.9.0\n",
            "timm                                  1.0.15\n",
            "tinycss2                              1.4.0\n",
            "tokenizers                            0.21.1\n",
            "toml                                  0.10.2\n",
            "tomlkit                               0.13.2\n",
            "toolz                                 0.12.1\n",
            "torch                                 2.6.0+cu124\n",
            "torchao                               0.10.0\n",
            "torchaudio                            2.6.0+cu124\n",
            "torchdata                             0.11.0\n",
            "torchsummary                          1.5.1\n",
            "torchtune                             0.6.1\n",
            "torchvision                           0.21.0+cu124\n",
            "tornado                               6.4.2\n",
            "tqdm                                  4.67.1\n",
            "traitlets                             5.7.1\n",
            "traittypes                            0.2.1\n",
            "transformers                          4.52.4\n",
            "treelite                              4.4.1\n",
            "treescope                             0.1.9\n",
            "triton                                3.2.0\n",
            "tsfresh                               0.21.0\n",
            "tweepy                                4.15.0\n",
            "typeguard                             4.4.2\n",
            "typer                                 0.16.0\n",
            "types-pytz                            2025.2.0.20250516\n",
            "types-setuptools                      80.9.0.20250529\n",
            "typing_extensions                     4.14.0\n",
            "typing-inspection                     0.4.1\n",
            "tzdata                                2025.2\n",
            "tzlocal                               5.3.1\n",
            "uc-micro-py                           1.0.3\n",
            "ucx-py-cu12                           0.42.0\n",
            "ucxx-cu12                             0.42.0\n",
            "umap-learn                            0.5.7\n",
            "umf                                   0.10.0\n",
            "uritemplate                           4.2.0\n",
            "urllib3                               2.4.0\n",
            "uvicorn                               0.34.3\n",
            "vega-datasets                         0.9.0\n",
            "wadllib                               1.3.6\n",
            "wandb                                 0.19.11\n",
            "wasabi                                1.1.3\n",
            "wcwidth                               0.2.13\n",
            "weasel                                0.4.1\n",
            "webcolors                             24.11.1\n",
            "webencodings                          0.5.1\n",
            "websocket-client                      1.8.0\n",
            "websockets                            15.0.1\n",
            "Werkzeug                              3.1.3\n",
            "wget                                  3.2\n",
            "wheel                                 0.45.1\n",
            "widgetsnbextension                    3.6.10\n",
            "wordcloud                             1.9.4\n",
            "wrapt                                 1.17.2\n",
            "wurlitzer                             3.1.1\n",
            "xarray                                2025.3.1\n",
            "xarray-einstats                       0.9.0\n",
            "xgboost                               2.1.4\n",
            "xlrd                                  2.0.1\n",
            "xxhash                                3.5.0\n",
            "xyzservices                           2025.4.0\n",
            "yarl                                  1.20.0\n",
            "ydf                                   0.12.0\n",
            "yellowbrick                           1.5\n",
            "yfinance                              0.2.61\n",
            "zict                                  3.0.0\n",
            "zipp                                  3.22.0\n",
            "zstandard                             0.23.0\n"
          ]
        }
      ]
    },
    {
      "cell_type": "code",
      "source": [
        "from transformers import DPRContextEncoder,DPRContextEncoderTokenizer\n",
        "import torch\n",
        "import numpy as np\n",
        "from transformers import DPRQuestionEncoder, DPRQuestionEncoderTokenizer\n",
        "from transformers import AutoTokenizer,AutoModelForCausalLM\n",
        "import matplotlib.pyplot as plt\n",
        "from mpl_toolkits.mplot3d import Axes3D\n",
        "from sklearn.manifold import TSNE\n",
        "\n"
      ],
      "metadata": {
        "id": "VU82FR4PSYh6"
      },
      "execution_count": 3,
      "outputs": []
    },
    {
      "cell_type": "code",
      "source": [
        "def plots(data):\n",
        "    #t-SNE (t-Distributed Stochastic Neighbor Embedding) is an effective method for visualizing high-dimensional data\n",
        "    tsne = TSNE(n_components=3, random_state=42,perplexity=data.shape[0]-1)\n",
        "    data_3d = tsne.fit_transform(data)\n",
        "\n",
        "    # Plotting\n",
        "    fig = plt.figure(figsize=(10, 7))\n",
        "    ax = fig.add_subplot(111, projection='3d')\n",
        "\n",
        "    # Assign colors for each point based on its index\n",
        "    num_points = len(data_3d)\n",
        "    colors = plt.cm.tab20(np.linspace(0, 1, num_points))\n",
        "\n",
        "    # Plot scatter with unique colors for each point\n",
        "    for idx, point in enumerate(data_3d):\n",
        "        ax.scatter(point[0], point[1], point[2], label=str(idx), color=colors[idx])\n",
        "\n",
        "    # Adding labels and titles\n",
        "    ax.set_xlabel('TSNE Component 1')\n",
        "    ax.set_ylabel('TSNE Component 2')\n",
        "    ax.set_zlabel('TSNE Component 3')\n",
        "    plt.title('3D t-SNE Visualization')\n",
        "    plt.legend(title='Input Order')\n",
        "    plt.show()"
      ],
      "metadata": {
        "id": "zjE_IYurYjku"
      },
      "execution_count": 4,
      "outputs": []
    },
    {
      "cell_type": "code",
      "source": [
        "!pip install PyPDF2"
      ],
      "metadata": {
        "colab": {
          "base_uri": "https://localhost:8080/"
        },
        "id": "DleuZJO0Z_bF",
        "outputId": "64da3de0-1092-4908-e438-34a3099d4e6b"
      },
      "execution_count": 5,
      "outputs": [
        {
          "output_type": "stream",
          "name": "stdout",
          "text": [
            "Collecting PyPDF2\n",
            "  Downloading pypdf2-3.0.1-py3-none-any.whl.metadata (6.8 kB)\n",
            "Downloading pypdf2-3.0.1-py3-none-any.whl (232 kB)\n",
            "\u001b[?25l   \u001b[90m━━━━━━━━━━━━━━━━━━━━━━━━━━━━━━━━━━━━━━━━\u001b[0m \u001b[32m0.0/232.6 kB\u001b[0m \u001b[31m?\u001b[0m eta \u001b[36m-:--:--\u001b[0m\r\u001b[2K   \u001b[91m━━━━━━━━━━━━━━━━━━━━━━━━━━━━━━━━━━━━━━\u001b[0m\u001b[91m╸\u001b[0m\u001b[90m━\u001b[0m \u001b[32m225.3/232.6 kB\u001b[0m \u001b[31m8.9 MB/s\u001b[0m eta \u001b[36m0:00:01\u001b[0m\r\u001b[2K   \u001b[90m━━━━━━━━━━━━━━━━━━━━━━━━━━━━━━━━━━━━━━━━\u001b[0m \u001b[32m232.6/232.6 kB\u001b[0m \u001b[31m6.1 MB/s\u001b[0m eta \u001b[36m0:00:00\u001b[0m\n",
            "\u001b[?25hInstalling collected packages: PyPDF2\n",
            "Successfully installed PyPDF2-3.0.1\n"
          ]
        }
      ]
    },
    {
      "cell_type": "code",
      "source": [
        "#Load data\n",
        "filename = 's41598-021-03585-1.pdf'\n",
        "\n",
        "import PyPDF2\n",
        "import re\n",
        "\n",
        "def read_and_split_text(filename,sentences_per_paragraph=10):\n",
        "    with open(filename, 'rb') as file:\n",
        "        reader = PyPDF2.PdfReader(file)\n",
        "        text = \"\"\n",
        "        for page in reader.pages:\n",
        "            page_text = page.extract_text()\n",
        "            if page_text:\n",
        "                page_text = page_text.replace('-\\n', '')  # Fix hyphenated words\n",
        "                page_text = page_text.replace('\\n', ' ')  # Remove line breaks\n",
        "                text += page_text + ' '\n",
        "\n",
        "    # Split into paragraphs at sentence boundaries\n",
        "    sentences = re.split(r'(?<=[.?!])\\s+(?=[A-Z])', text)\n",
        "    sentences = [sent.strip() for sent in sentences if len(sent.strip()) > 80]\n",
        "    paragraphs = [\n",
        "        ' '.join(sentences[i:i + sentences_per_paragraph])\n",
        "        for i in range(0, len(sentences), sentences_per_paragraph)\n",
        "    ]\n",
        "    return paragraphs\n",
        "\n",
        "# Read the text file and split it into paragraphs\n",
        "paragraphs = read_and_split_text('s41598-021-03585-1.pdf')"
      ],
      "metadata": {
        "id": "WhhFKodWY5g3"
      },
      "execution_count": 8,
      "outputs": []
    },
    {
      "cell_type": "code",
      "source": [
        "paragraphs[30:40]"
      ],
      "metadata": {
        "colab": {
          "base_uri": "https://localhost:8080/"
        },
        "collapsed": true,
        "id": "SL7dwPpSY5eD",
        "outputId": "3894dc7f-75f2-458e-87db-3033c814875c"
      },
      "execution_count": 9,
      "outputs": [
        {
          "output_type": "execute_result",
          "data": {
            "text/plain": [
              "['CATENA   188, 104451. https://  doi. org/ 10. 1016/j.  catena.  2019. 104451  (2020).  46. A deep learning algorithm using a fully connected sparse autoencoder neural network for landslide susceptibility  prediction. Landslides  17, 217–229. https://  doi. org/ 10. 1007/  s10346-  019-  01274-9  (2020). 16 Vol:.(1234567890) Scientific Reports  |        (2021) 11:24112  | https://doi.org/10.1038/s41598-021-03585-1 www.nature.com/scientificreports/ 47. Comparing the prediction performance of a Deep Learning  Neural Network model with conventional machine learning models in landslide susceptibility assessment. CATENA 188, 104426.  https://  doi. org/ 10. 1016/j.  catena.  2019. 104426  (2020).  48. Comparison of deep neural networks to spatio-temporal cortical  dynamics of human visual object recognition reveals hierarchical correspondence. Mapping landslides on EO data: Performance of deep learning models vs traditional machine  learning models. Geosciences   11, 226. https://  doi. org/ 10. 3390/  geosc  ience  s1106  0226  (2021).  52. Systematic Variations in the Deformation Intensity in the Zagros Hinterland Fold-and-Thrust  Belt (Zeitschrift der Deutschen Gesellschaft für Geowissenschaften, 2021).  53. In: The Economic Geology of Iran , 45–64 (Springer, 2013). https:// doi.  org/ 10. 1007/   978-  94- 007- 5625-0_2 .  55.',\n",
              " 'ArcGIS. (2021) https://  deskt  op. arcgis.  com/  en/ arcmap/  10.4/  get- start  ed/ setup/  arcgis-  deskt  op- quick-  start- guide.  htm.  56. Rev. 180, 60–91. https://  doi. org/ 10. 1016/j.  earsc  irev. 2018.  03. 001 (2018).  57. Landslide susceptibility mapping based on support vector machine: A case study on natural slopes of  Hong Kong, China. Application of stacking hybrid machine learning algorithms in delineating multi-type flooding in Bangladesh. Manage.  295, 113086. https://  doi. org/ 10. 1016/j.  jenvm  an. 2021. 113086  (2021).  62. GIS-based landslide susceptibility mapping and assessment using bivariate statistical methods in Simada  area, northwestern Ethiopia. The application of GIS based logistic regression for landslide susceptibility mapping in the KakudaY ahiko Mountains Central Japan. Geohazards susceptibility assessment along the upper indus basin using four machine learning and statistical  models. Author contributions Mo.A. and Me.A. conceived the idea for the manuscript prepared the code, data analysis, GIS maps and drafted  the manuscript, H.A. provided supervision; visualization and data-controlling, P .M.A. and R.D. provided supervision, verification, editing, and modification. Additional information Correspondence and requests for materials should be addressed to R.D.',\n",
              " 'Publisher’s note Springer Nature remains neutral with regard to jurisdictional claims in published maps and  institutional affiliations. Open Access  This article is licensed under a Creative Commons Attribution 4.0 International  License, which permits use, sharing, adaptation, distribution and reproduction in any medium or  format, as long as you give appropriate credit to the original author(s) and the source, provide a link to the  Creative Commons licence, and indicate if changes were made. The images or other third party material in this  article are included in the article’s Creative Commons licence, unless indicated otherwise in a credit line to the  material. If material is not included in the article’s Creative Commons licence and your intended use is not  permitted by statutory regulation or exceeds the permitted use, you will need to obtain permission directly from  the copyright holder. To view a copy of this licence, visit http:// creat  iveco  mmons. org/ licen  ses/ by/4. 0/. © The Author(s) 2021']"
            ]
          },
          "metadata": {},
          "execution_count": 9
        }
      ]
    },
    {
      "cell_type": "code",
      "source": [
        "for i in range(0,5):\n",
        "  print(f\"sample: {i} paragraph: {paragraphs[i]}\\n\")"
      ],
      "metadata": {
        "colab": {
          "base_uri": "https://localhost:8080/"
        },
        "collapsed": true,
        "id": "t6YQiWI4Y5Vy",
        "outputId": "6f1d35ca-8561-4f1e-addb-d8766fabe8ff"
      },
      "execution_count": 10,
      "outputs": [
        {
          "output_type": "stream",
          "name": "stdout",
          "text": [
            "sample: 0 paragraph: 1 Vol.:(0123456789) Scientific Reports  |        (2021) 11:24112  | https://doi.org/10.1038/s41598-021-03585-1 www.nature.com/scientificreportsDeep learning‑based landslide  susceptibility mapping Mohammad Azarafza1, Mehdi Azarafza2, Haluk Akgün3, Peter M. Atkinson4 &  Reza Derakhshani5,6* Landslides are considered as one of the most devastating natural hazards in Iran, causing extensive  damage and loss of life. Landslide susceptibility maps for landslide prone areas can be used to plan  for and mitigate the consequences of catastrophic landsliding events. Here, we developed a deep  convolutional neural network (CNN–DNN) for mapping landslide susceptibility, and evaluated it on  the Isfahan province, Iran, which has not previously been assessed on such a scale. The proposed  model was trained and validated using training (80%) and testing (20%) datasets, each containing  relevant data on historical landslides, field records and remote sensing images, and a range of  geomorphological, geological, environmental and human activity factors as covariates. The CNN– DNN model prediction accuracy was tested using a wide range of statistics from the confusion matrix  and error indices from the receiver operating characteristic (ROC) curve. The CNN–DNN model was  evaluated comprehensively by comparing it to several state‑of ‑the‑art benchmark machine learning  techniques including the support vector machine (SVM), logistic regression (LR), Gaussian naïve Bayes  (GNB), multilayer perceptron (MLP), Bernoulli Naïve Bayes (BNB) and decision tree (DT) classifiers. The CNN–DNN model for landslide susceptibility mapping was found to predict more accurately  than the benchmark algorithms, with an AUC  = 90.9%, IRs = 84.8%, MSE = 0.17, RMSE = 0.40, and  MAPE = 0.42. The map provided by the CNN–DNN clearly revealed a high‑susceptibility area in the  west and southwest, related to the main Zagros trend in the province. These findings can be of great  utility for landslide risk management and land use planning in the Isfahan province.\n",
            "\n",
            "sample: 1 paragraph: Landslides, one of the most common and potentially catastrophic geo-hazards, are complicated geological phe nomena that occur in many geospatial environments and  geomaterials1–5. Landslides are considered the second  largest geo-hazard globally, causing extensive financial losses annually, according to the United Nations Development  Program6–8. Current opinion is that the best way to minimise landslide risk is to monitor, assess and  pinpoint landslide-prone areas  reliably9. Thus, mapping landslide-susceptible areas can be essential to manage  and restrict the potential impacts of landslides in vulnerable  regions10–17. Landslide susceptibility assessment is  not straightforward and generally requires detailed investigation of a range of factors underpinning susceptibility to produce zonation maps which delineate susceptible regions in a spatially explicit manner. Such spatial  information on susceptibility can be especially valuable in policy-making and management decision-making to  mitigate and reduce the risks related to  landsliding18–21. Landslide susceptibility mapping has been undertaken based on quantitative, semi-quantitative and qualita tive methods (which can be further categorised as deterministic, statistic-probabilistic, heuristic, inventory-based,  geostatistical and knowledge-based)22–32. Residual uncertainty within landslide susceptibility assessments has  led to the development of more complex approaches to attain acceptable levels of accuracy. The largest sources  of uncertainty in susceptibility modelling are related to the inventory database. Geological complexity, geomor phological deformations and land-use and landscape changes are the main causes of the  uncertainties33.\n",
            "\n",
            "sample: 2 paragraph: Recently, knowledge-based approaches, namely,  machine learning techniques such as logistic regression, support vector machines, random forests, artificial neural  networks, and deep neural networks, have been applied for landslide susceptibility mapping to increase mapping   accuracy22,34–36. These methods have improved capabilities concerning process adaptability and  precision37,38. Shallow learning (e.g., the multilayer perceptron, MLP) is machine learning where the learning is from data  described by pre-defined (i.e., manually extracted) features. In deep learning, the feature extraction is computed OPEN 1Department of Civil Engineering, University of Tabriz, Tabriz, Iran. 2Department of Computer Engineering,  University of Tabriz, Tabriz, Iran. 3Department of Geological Engineering, Middle East Technical University  (METU), Ankara, Turkey. 4Lancaster Environment Centre, Faculty of Science and Technology, Lancaster University,  Lancaster, UK. 5Department of Geology, Shahid Bahonar University of Kerman, Kerman, Iran. 6Department of  Earth Sciences, Utrecht University, Utrecht, The Netherlands. *email: r.derakhshani@uu.nl 2 Vol:.(1234567890) Scientific Reports  |        (2021) 11:24112  | https://doi.org/10.1038/s41598-021-03585-1 www.nature.com/scientificreports/automatically without manual human intervention. Deep learning methods have gained popularity because they  often outperform conventional shallow learning methods by extracting informative features automatically from  raw data with little or no pre-processing due to their complex  architecture39,40. Deep learning networks (DNNs)  have become extremely popular, including convolutional neural networks (CNNs). The CNN is a regularised  version of a supervised learning framework that employs a sequence of mathematical operations arranged in  network layers, including the convolution, pooling, batch normalisation, dense, dropout and fully-connected   layers41. CNNs are used commonly for object detection,  feature extraction, pattern recognition, and land-cover exploration. These deep learning techniques are applied  mostly to analyse remote sensing images with special emphasis on detecting and recognising ’ events’ and pattern  recognition  problems42. In terms of landslide susceptibility, CNNs are suitable for detecting historical landslide  locations and landslide hazard  analysis8.\n",
            "\n",
            "sample: 3 paragraph: CNNs have also been applied for landslide recognition based on remote  sensing  images32,37,42,43. In relation to landslide susceptibility assessment, research has shown that deep learning  is more effective than shallow  learning44–47. While the application of CNNs has providedd increased accuracy for  landslide susceptibility mapping, it has not provided the desirable or consistent accuracy. This research aimed to assess the suitability of a coupled  CNN–DNN neural network for landslide susceptibility analysis. The folowing objectives were set: (i )  what are the main triggering factors for landslide occurrence probability?, ( ii) Can the CNN–DNN predictive  model provide more accurate results than regular models? and (iii ) Can the CNN–DNN model provide the  highest accuracy for susceptibility mapping. The CNN–DNN model was evaluated against a series of benchmark  machine learning techniques, including the support vector machine (SVM), logistic regression (LR), Gaussian  naïve Bayes (GNB), multilayer perceptron (MLP), Bernoulli naïve Bayes (BNB) and decision tree (DT) classi fiers. After preparing the landslide ’ covariates’ (or factors) relevant to landslide occurrence in the study area, the  various algorithms were used to predict landslide susceptibility spatially, and areas of high susceptibility were  investigated further. The prediction results were tested using confusion matrices (i.e., overall accuracy, precision,  recall and F1-score) and receiver operating characteristic curves (ROC). The main CNN–DNN  architecture48. 3 Vol.:(0123456789) Scientific Reports  |        (2021) 11:24112  | https://doi.org/10.1038/s41598-021-03585-1 www.nature.com/scientificreports/Analysis method In deep learning and data mining, the extraction of features plays an important role. These extracted features  can be used for classification or prediction with high accuracy.\n",
            "\n",
            "sample: 4 paragraph: Since spatial prediction (i.e., mapping) is crucial  for a range of applications including crisis management, urban planning and geo-hazard assessment (including  landslide susceptibility assessment), the coupled CNN and DNN classifier has found wide  applicability8,37,42,49. In the CNN–DNN classifier, the input data are evaluated by convolution, pooling, batch normalisation, dense,  dropout and fully connected layers to predict the outputs (Fig.  1). The input data provide the first layer of evaluation as a data matrix in which each  element has a specific feature value. Hence, the input layer is the primary feature map modified and organised  by each convolutional layer and unit. The first convolutional layer extracts some low-level features (e.g., lines, edges, corners). Further convolutional layers learn  iteratively more intricate representations or features. Max-pooling  is the most common manipulation amongst the different pooling approaches. Max-pooling aims to divide the  feature maps into several rectangular zones and provide the maximum value for each  zone42. Batch normalisa tion (or batch -norm) aims to increase the speed, performance and stability of the network. Batch normalisation  is used to normalise the input layer by re-centring and re-scaling.\n",
            "\n"
          ]
        }
      ]
    },
    {
      "cell_type": "code",
      "source": [
        "%%capture\n",
        "context_tokenizer = DPRContextEncoderTokenizer.from_pretrained('facebook/dpr-ctx_encoder-single-nq-base')\n",
        "context_tokenizer"
      ],
      "metadata": {
        "colab": {
          "base_uri": "https://localhost:8080/",
          "height": 89
        },
        "collapsed": true,
        "id": "e2uYYkAwY5S6",
        "outputId": "207bab46-5eeb-4115-b9bb-0427a4ffda00"
      },
      "execution_count": 11,
      "outputs": [
        {
          "output_type": "stream",
          "name": "stderr",
          "text": [
            "The tokenizer class you load from this checkpoint is not the same type as the class this function is called from. It may result in unexpected tokenization. \n",
            "The tokenizer class you load from this checkpoint is 'DPRQuestionEncoderTokenizer'. \n",
            "The class this function is called from is 'DPRContextEncoderTokenizer'.\n"
          ]
        }
      ]
    },
    {
      "cell_type": "code",
      "source": [
        "#Checking ContextEncoder tokenizer\n",
        "text = [(\"How are you?\", \"I am fine.\"), (\"What's up?\", \"Not much.\")]\n",
        "print(text)\n",
        "tokens_info=context_tokenizer(text, return_tensors='pt', padding=True, truncation=True, max_length=256)\n",
        "tokens_info"
      ],
      "metadata": {
        "colab": {
          "base_uri": "https://localhost:8080/"
        },
        "collapsed": true,
        "id": "5yybwJs1eC93",
        "outputId": "93eb097e-62fc-4a3f-d679-0092b4c99dea"
      },
      "execution_count": 12,
      "outputs": [
        {
          "output_type": "stream",
          "name": "stdout",
          "text": [
            "[('How are you?', 'I am fine.'), (\"What's up?\", 'Not much.')]\n"
          ]
        },
        {
          "output_type": "execute_result",
          "data": {
            "text/plain": [
              "{'input_ids': tensor([[ 101, 2129, 2024, 2017, 1029,  102, 1045, 2572, 2986, 1012,  102],\n",
              "        [ 101, 2054, 1005, 1055, 2039, 1029,  102, 2025, 2172, 1012,  102]]), 'token_type_ids': tensor([[0, 0, 0, 0, 0, 0, 1, 1, 1, 1, 1],\n",
              "        [0, 0, 0, 0, 0, 0, 0, 1, 1, 1, 1]]), 'attention_mask': tensor([[1, 1, 1, 1, 1, 1, 1, 1, 1, 1, 1],\n",
              "        [1, 1, 1, 1, 1, 1, 1, 1, 1, 1, 1]])}"
            ]
          },
          "metadata": {},
          "execution_count": 12
        }
      ]
    },
    {
      "cell_type": "code",
      "source": [
        "for s in tokens_info['input_ids']:\n",
        "   print(context_tokenizer.convert_ids_to_tokens(s))"
      ],
      "metadata": {
        "colab": {
          "base_uri": "https://localhost:8080/"
        },
        "id": "JeCCG2pceVW0",
        "outputId": "14a680f4-62c0-489b-9134-d31580f10306"
      },
      "execution_count": 13,
      "outputs": [
        {
          "output_type": "stream",
          "name": "stdout",
          "text": [
            "['[CLS]', 'how', 'are', 'you', '?', '[SEP]', 'i', 'am', 'fine', '.', '[SEP]']\n",
            "['[CLS]', 'what', \"'\", 's', 'up', '?', '[SEP]', 'not', 'much', '.', '[SEP]']\n"
          ]
        }
      ]
    },
    {
      "cell_type": "code",
      "source": [
        "context_encoder = DPRContextEncoder.from_pretrained('facebook/dpr-ctx_encoder-single-nq-base')"
      ],
      "metadata": {
        "colab": {
          "base_uri": "https://localhost:8080/",
          "height": 0,
          "referenced_widgets": [
            "d2e6ffe576e34776ac565833f4265513",
            "675c5fa22c2e43a78c0295da8d1bf3a8",
            "b50aef6dac1141debd336569356baff8",
            "0ba7a335692b438b9f971c9405bb4d73",
            "f0614c94e6494d498e8b9ac638f235e5",
            "a538977885224eb5bff57366cba22dfb",
            "30399b3d1bce4a4f834cbc79af2e995e",
            "a599362414714ed68e0cd7c3e9144785",
            "e07beedb16844944adf9b4a07e69d86e",
            "c233b37a274a491aa19b5394650b22fb",
            "6670bc968faf471689f21c660dcbc530",
            "50dbb56a28ce4d378f2960e16bbe9630",
            "75c5b76812d24fb89ec3c762fcd949f5",
            "7642e4b92ef94208bc216a2306a22c5a",
            "1b8e5f0091a148c59533ae44310ee5cc",
            "4e58945ffbfd48c48c1b5a1a39e64db9",
            "3e9d79001b7c4a1fa9a50b6268e38697",
            "15ed3abf200b47f4a0288a1a52bad18a",
            "c3b699c9d9cb418ba8fe102e0856f624",
            "c13915263202414ea308688253a53405",
            "3cea1ef78f0545f2a994c8a4a5c3f815",
            "f4454a89e99e4430b09b73d8ce3814c6"
          ]
        },
        "collapsed": true,
        "id": "4DeYhpwgftpW",
        "outputId": "eaec519f-e61c-4069-d877-2599dff06957"
      },
      "execution_count": 14,
      "outputs": [
        {
          "output_type": "display_data",
          "data": {
            "text/plain": [
              "pytorch_model.bin:   0%|          | 0.00/438M [00:00<?, ?B/s]"
            ],
            "application/vnd.jupyter.widget-view+json": {
              "version_major": 2,
              "version_minor": 0,
              "model_id": "d2e6ffe576e34776ac565833f4265513"
            }
          },
          "metadata": {}
        },
        {
          "output_type": "display_data",
          "data": {
            "text/plain": [
              "model.safetensors:   0%|          | 0.00/438M [00:00<?, ?B/s]"
            ],
            "application/vnd.jupyter.widget-view+json": {
              "version_major": 2,
              "version_minor": 0,
              "model_id": "50dbb56a28ce4d378f2960e16bbe9630"
            }
          },
          "metadata": {}
        },
        {
          "output_type": "stream",
          "name": "stderr",
          "text": [
            "Some weights of the model checkpoint at facebook/dpr-ctx_encoder-single-nq-base were not used when initializing DPRContextEncoder: ['ctx_encoder.bert_model.pooler.dense.bias', 'ctx_encoder.bert_model.pooler.dense.weight']\n",
            "- This IS expected if you are initializing DPRContextEncoder from the checkpoint of a model trained on another task or with another architecture (e.g. initializing a BertForSequenceClassification model from a BertForPreTraining model).\n",
            "- This IS NOT expected if you are initializing DPRContextEncoder from the checkpoint of a model that you expect to be exactly identical (initializing a BertForSequenceClassification model from a BertForSequenceClassification model).\n"
          ]
        }
      ]
    },
    {
      "cell_type": "code",
      "source": [
        "import random\n",
        "random.shuffle(paragraphs)\n",
        "tokens=context_tokenizer( paragraphs[:20], return_tensors='pt', padding=True, truncation=True, max_length=256)\n",
        "tokens\n",
        "outputs=context_encoder(**tokens)\n",
        "outputs.pooler_output"
      ],
      "metadata": {
        "colab": {
          "base_uri": "https://localhost:8080/",
          "height": 156
        },
        "id": "2Ty8cSUnf-vz",
        "outputId": "33e18f64-0a36-4811-9ab4-2a33bd073749"
      },
      "execution_count": 15,
      "outputs": [
        {
          "output_type": "execute_result",
          "data": {
            "text/plain": [
              "tensor([[ 0.0186, -0.2280, -0.1975,  ..., -0.5991,  0.0656,  0.1840],\n",
              "        [-0.4326, -0.1931,  0.2416,  ..., -0.4096, -0.5322, -0.2121],\n",
              "        [-0.2225,  0.0305,  0.2697,  ..., -0.5890, -0.2380, -0.3442],\n",
              "        ...,\n",
              "        [-0.3200, -0.1979,  0.4361,  ..., -0.5568, -0.1062, -0.1969],\n",
              "        [-0.2813, -0.4396,  0.3296,  ..., -0.4239,  0.0183,  0.1458],\n",
              "        [ 0.0783, -0.3888,  0.1520,  ..., -0.5325,  0.1345, -0.2153]],\n",
              "       grad_fn=<SliceBackward0>)"
            ]
          },
          "metadata": {},
          "execution_count": 15
        }
      ]
    },
    {
      "cell_type": "code",
      "source": [
        "plots(outputs.pooler_output.detach().numpy())"
      ],
      "metadata": {
        "colab": {
          "base_uri": "https://localhost:8080/",
          "height": 598
        },
        "id": "w9Kp6KZYgKvJ",
        "outputId": "f892f521-1691-426e-9c67-21d9d0a80e10"
      },
      "execution_count": 16,
      "outputs": [
        {
          "output_type": "display_data",
          "data": {
            "text/plain": [
              "<Figure size 1000x700 with 1 Axes>"
            ],
            "image/png": "[encoded data removed]"
          },
          "metadata": {}
        }
      ]
    },
    {
      "cell_type": "code",
      "source": [
        "print(\"sample 5:\", paragraphs[16])\n",
        "print(\"sample 18:\", paragraphs[18])\n",
        "\n",
        "print(\"sample 10:\", paragraphs[10])\n",
        "print(\"sample 2:\", paragraphs[2])"
      ],
      "metadata": {
        "colab": {
          "base_uri": "https://localhost:8080/"
        },
        "id": "lzSpfWk8glGz",
        "outputId": "9751ef35-d5dd-4859-a213-4b073a493a0d"
      },
      "execution_count": 35,
      "outputs": [
        {
          "output_type": "stream",
          "name": "stdout",
          "text": [
            "sample 5: The performance matrix is a specific table that visualises the performance of a  prediction algorithm based on its predicted values, and it contains the sensitivity, specificity and 1-specificity  parameters. For classification tasks, true positives (TP), true negatives (TN), false positives (FP) and false negatives (FN) are used to compare the results of the classifier in question with trusted external judgments (Hearty  2016). Precision, also called the positive predictive value, is the fraction of relevant instances (TP) amongst the  retrieved instances. The environmental factors used in the analysis: (a ) climate, (b ) watershed, (c ) drainage pattern, (d )  vegetation using ArcGIS 10.4.1 software  package55. The human-activity related factors used in the analysis: (a ) distance to roads, (b ) distance to cities  using ArcGIS 10.4.1 software  package55. 8 Vol:.(1234567890) Scientific Reports  |        (2021) 11:24112  | https://doi.org/10.1038/s41598-021-03585-1 www.nature.com/scientificreports/Recall (sensitivity) is the total fraction of relevant instances. The false-positive rate can be  calculated as ‘1-specificity’ , where specificity is defined as: Accuracy can be a misleading metric for imbalanced datasets. For example, for a prediction set with 95 posi tive and 5 negative values, classifying all values as negative gives a 0.95 accuracy score. On the other hand, the  F1-score, the harmonic mean of precision and recall, provides approximately the average of the two values when  they are close and is more generally the harmonic mean. The overall accuracy (OA) represents the probability that a test will correctly classify an individual; that is,  the sum of TP plus TN divided by the total number of the individuals tested: OA is, thus, also the weighted average of ‘sensitivity’ and ‘specificity’ (Aggarwal, 2018). The application of the  performance matrix helps to characterise the trustworthiness of the classifier in question.\n",
            "sample 18: The  trend is aligned NW–SE and has affected the geo-structures in the region, including fault orientations, folding  and shear zone  formation52. Although most of the study area is covered by Quaternary sediments, the geological  formations in the region include late Triassic  rocks53. The geo-structures in the region can lead to different sliding and land-movement activities. The most important reasons for landslides in this province relate to tectonic  Figure 2. Location map of the study region using ArcGIS 10.4.1 software  package55. 4 Vol:.(1234567890) Scientific Reports  |        (2021) 11:24112  | https://doi.org/10.1038/s41598-021-03585-1 www.nature.com/scientificreports/structures rather than geological unit characteristics. Naturally, sedimentary rocks, especially marl formations,  are more affected by landslides than igneous formations in the region, with the most important driving factors  for landslides being tectonics and  seismotectonics54. The selection of a set of influencing factors is considered a key step in landslide susceptibility  analysis56. Both full-length field surveys and remote sensing observations were acquired to provide a  detailed landslide assessment of the study area. During the field surveys, 222 historic landslides in the study  area were identified to determine landslide-prone areas. Several triggering factors, as used in numerous studies  on machine learning-based landslide susceptibility modelling, categorized into several  groups57,58, were used as  landslide conditioning factors.\n",
            "sample 10: Geomorphol ogy 130, 55–64. https://  doi. org/ 10. 1016/j. geomo  rph. 2011. 02.  001 (2011).  27. Evaluation and comparison of landslide susceptibility mapping methods: A case study for the Ulus district, Bartın, northern Turkey. Sci. 29, 132–158. https:// doi. org/ 10.   1080/ 13658  816. 2014.  953164  (2015).  28. National level landslide susceptibility assessment of Turkey utilising public domain dataset. Earth  Sci. 75, 847. https://  doi. org/ 10. 1007/  s12665-  016-  5640-3 (2016).  29. Landslide risk reduction measures: A review of practices and challenges for the tropics. Geogr. 41, 191–221.  https://  doi. org/ 10. 1177/  03091 33316  689344 (2017).  30. Landslide susceptibility assessment at the Wuning area, China: A comparison between multi-criteria decision making, bivariate statistical and machine learning methods. Hazards 96, 173–212. https:// doi. org/ 10. 1007/ s11069- 018- 3536-0   (2019).  31. A novel hybrid model of bagging-based naïve bayes trees for landslide susceptibility assessment.\n",
            "sample 2: The DT algorithm produced the next largest F1-score, with an average value of 83.5% and a difference of almost  2% less than the proposed model. ROC results for the CNN–DNN model and the benchmark methods. 13 Vol.:(0123456789) Scientific Reports  |        (2021) 11:24112  | https://doi.org/10.1038/s41598-021-03585-1 www.nature.com/scientificreports/Discussion We investigated the potential of a coupled deep neural network (CNN–DNN) to predict landslide susceptibil ity spatially. The algorithm was evaluated using data with a spatial resolution of 30 m representing the Isfahan  province, Iran. Indices associated with historical landslide occurrences (a total of 222 landslides) were used as  the landslide inventory dataset, and this was divided randomly into training (80%) and testing (20%) sets for  the analysis. Four main covariates, including geomorphologic, geologic, environmental and human activityrelated covariates, were identified based on field and remote sensing investigations. The CNN–DNN model was  able to produce a susceptibility map for the study area with appropriate accuracy. The results show a significant  increase in landslide susceptibility prediction accuracy compared to the benchmark models. Notwithstanding  the high accuracy achieved by the proposed CNN–DNN predictive model for landslide susceptibility mapping,  this study has some limitations that could be considered in future research. Theses limitation can be addressed  as: (i ) the primary database was provided based on fieldwork, historical landslide records and remote-sensing  information. The limited number of reference landslides in the recorded data (as is commonly the case) made  modelling challenging; ( ii) the data on the triggering factors were highly dependent on the spatial resolutions of  satellite sensor imagery and DEM data quality, which affected directly the quality of the input database; (iii ) the  predictive model required strong processors to manage the inputs during landslide susceptibility assessments.\n"
          ]
        }
      ]
    },
    {
      "cell_type": "markdown",
      "source": [
        "samples discuss diversity. Rather than relying solely on visual inspection, distances between embeddings are employed to determine the relevance of retrieved documents or passages. This involves comparing the query’s embedding with the embeddings of candidate documents, enabling a precise and objective measure of relevance."
      ],
      "metadata": {
        "id": "K-_kvogEiUiW"
      }
    },
    {
      "cell_type": "code",
      "source": [
        "embeddings=[]\n",
        "for text in paragraphs[0:5]:\n",
        "    inputs = context_tokenizer(text, return_tensors='pt', padding=True, truncation=True, max_length=256)\n",
        "    outputs = context_encoder(**inputs)\n",
        "    embeddings.append(outputs.pooler_output)\n",
        "    print(\"number of samples:\")\n",
        "    print(len(embeddings))\n",
        "    print(\" samples shape:\")\n",
        "    print(outputs.pooler_output.shape)"
      ],
      "metadata": {
        "colab": {
          "base_uri": "https://localhost:8080/"
        },
        "id": "q02MtGnwhR_R",
        "outputId": "9261366f-cd55-402e-ddf4-25fd62234666"
      },
      "execution_count": 17,
      "outputs": [
        {
          "output_type": "stream",
          "name": "stdout",
          "text": [
            "number of samples:\n",
            "1\n",
            " samples shape:\n",
            "torch.Size([1, 768])\n",
            "number of samples:\n",
            "2\n",
            " samples shape:\n",
            "torch.Size([1, 768])\n",
            "number of samples:\n",
            "3\n",
            " samples shape:\n",
            "torch.Size([1, 768])\n",
            "number of samples:\n",
            "4\n",
            " samples shape:\n",
            "torch.Size([1, 768])\n",
            "number of samples:\n",
            "5\n",
            " samples shape:\n",
            "torch.Size([1, 768])\n"
          ]
        }
      ]
    },
    {
      "cell_type": "code",
      "source": [
        "torch.cat(embeddings).detach().numpy().shape"
      ],
      "metadata": {
        "colab": {
          "base_uri": "https://localhost:8080/"
        },
        "id": "wFsC2qioidUL",
        "outputId": "9e205320-17c0-4f5a-ce50-a3438944d2a3"
      },
      "execution_count": 18,
      "outputs": [
        {
          "output_type": "execute_result",
          "data": {
            "text/plain": [
              "(5, 768)"
            ]
          },
          "metadata": {},
          "execution_count": 18
        }
      ]
    },
    {
      "cell_type": "code",
      "source": [
        "def encode_contexts(text_list):\n",
        "    # Encode a list of texts into embeddings\n",
        "    embeddings = []\n",
        "    for text in text_list:\n",
        "        inputs = context_tokenizer(text, return_tensors='pt', padding=True, truncation=True, max_length=256)\n",
        "        outputs = context_encoder(**inputs)\n",
        "        embeddings.append(outputs.pooler_output)\n",
        "    return torch.cat(embeddings).detach().numpy()\n",
        "\n",
        "# you would now encode these paragraphs to create embeddings.\n",
        "context_embeddings = encode_contexts(paragraphs)"
      ],
      "metadata": {
        "id": "Alceb1ARidRX"
      },
      "execution_count": 19,
      "outputs": []
    },
    {
      "cell_type": "code",
      "source": [
        "context_embeddings"
      ],
      "metadata": {
        "colab": {
          "base_uri": "https://localhost:8080/"
        },
        "id": "aa7ZyN5ji9GV",
        "outputId": "ff295c36-a55c-4548-ca76-0663c3a5edff"
      },
      "execution_count": 20,
      "outputs": [
        {
          "output_type": "execute_result",
          "data": {
            "text/plain": [
              "array([[ 0.01861554, -0.22802065, -0.19754633, ..., -0.5991322 ,\n",
              "         0.06562608,  0.18395303],\n",
              "       [-0.4325573 , -0.19312814,  0.2415763 , ..., -0.40960002,\n",
              "        -0.53219175, -0.21213725],\n",
              "       [-0.22250617,  0.0305414 ,  0.26971427, ..., -0.5890117 ,\n",
              "        -0.23796102, -0.34424615],\n",
              "       ...,\n",
              "       [ 0.10424465, -0.08504135,  0.48281628, ..., -0.6553708 ,\n",
              "        -0.07504836, -0.02962995],\n",
              "       [-0.42748326,  0.10887129,  0.02349153, ...,  0.02088128,\n",
              "        -0.1006383 , -0.14685598],\n",
              "       [-0.12530555, -0.10445824, -0.23303817, ..., -0.7003903 ,\n",
              "        -0.06033783, -0.10743633]], dtype=float32)"
            ]
          },
          "metadata": {},
          "execution_count": 20
        }
      ]
    },
    {
      "cell_type": "code",
      "source": [
        "!pip install faiss-cpu\n"
      ],
      "metadata": {
        "colab": {
          "base_uri": "https://localhost:8080/"
        },
        "id": "ytNSFR8emISE",
        "outputId": "a5c2c744-0a09-439f-b6b6-75d79d0c57e5"
      },
      "execution_count": 22,
      "outputs": [
        {
          "output_type": "stream",
          "name": "stdout",
          "text": [
            "Requirement already satisfied: faiss-cpu in /root/.local/lib/python3.11/site-packages (1.11.0)\n",
            "Requirement already satisfied: numpy<3.0,>=1.25.0 in /usr/local/lib/python3.11/dist-packages (from faiss-cpu) (2.0.2)\n",
            "Requirement already satisfied: packaging in /usr/local/lib/python3.11/dist-packages (from faiss-cpu) (24.2)\n"
          ]
        }
      ]
    },
    {
      "cell_type": "code",
      "source": [
        "'''import faiss\n",
        "import numpy as np\n",
        "\n",
        "embedding_dim = 768  # This should match the dimension of your embeddings\n",
        "context_embeddings_np = np.array(context_embeddings).astype('float32')\n",
        "\n",
        "# Create a FAISS index for the embeddings\n",
        "index = faiss.IndexFlatL2(embedding_dim)\n",
        "index.add(context_embeddings_np)  # Add the context embeddings to the index'''\n",
        "\n",
        "import numpy as np\n",
        "from sklearn.neighbors import NearestNeighbors\n",
        "\n",
        "embedding_dim = 768  # This should match the dimension of your embeddings\n",
        "context_embeddings_np = np.array(context_embeddings).astype('float32')\n",
        "\n",
        "# Create a NearestNeighbors \"index\" similar to FAISS\n",
        "index = NearestNeighbors(n_neighbors=5, metric='euclidean')  # or 'cosine'\n",
        "index.fit(context_embeddings_np)\n",
        "\n",
        "# Add a query to test\n",
        "query_embedding = np.random.rand(1, embedding_dim).astype('float32')\n",
        "distances, indices = index.kneighbors(query_embedding)\n",
        "\n",
        "print(\"Indices of closest matches:\", indices)\n",
        "print(\"Distances:\", distances)\n"
      ],
      "metadata": {
        "colab": {
          "base_uri": "https://localhost:8080/"
        },
        "collapsed": true,
        "id": "8x3KDuM0iu9y",
        "outputId": "3e265394-0a29-4bf4-d471-690001da9c8f"
      },
      "execution_count": 26,
      "outputs": [
        {
          "output_type": "stream",
          "name": "stdout",
          "text": [
            "Indices of closest matches: [[20 30  3 17 18]]\n",
            "Distances: [[20.25853157 20.29398155 20.3152504  20.34446716 20.35280991]]\n"
          ]
        }
      ]
    },
    {
      "cell_type": "code",
      "source": [
        "# Load DPR question encoder and tokenizer\n",
        "question_encoder = DPRQuestionEncoder.from_pretrained('facebook/dpr-question_encoder-single-nq-base')\n",
        "question_tokenizer = DPRQuestionEncoderTokenizer.from_pretrained('facebook/dpr-question_encoder-single-nq-base')"
      ],
      "metadata": {
        "colab": {
          "base_uri": "https://localhost:8080/"
        },
        "collapsed": true,
        "id": "d5Ez1fWdjAUW",
        "outputId": "72742e97-6419-41aa-f6ad-4fc1c06bb71e"
      },
      "execution_count": 27,
      "outputs": [
        {
          "output_type": "stream",
          "name": "stderr",
          "text": [
            "Some weights of the model checkpoint at facebook/dpr-question_encoder-single-nq-base were not used when initializing DPRQuestionEncoder: ['question_encoder.bert_model.pooler.dense.bias', 'question_encoder.bert_model.pooler.dense.weight']\n",
            "- This IS expected if you are initializing DPRQuestionEncoder from the checkpoint of a model trained on another task or with another architecture (e.g. initializing a BertForSequenceClassification model from a BertForPreTraining model).\n",
            "- This IS NOT expected if you are initializing DPRQuestionEncoder from the checkpoint of a model that you expect to be exactly identical (initializing a BertForSequenceClassification model from a BertForSequenceClassification model).\n"
          ]
        }
      ]
    },
    {
      "cell_type": "code",
      "source": [
        "# Example question\n",
        "question = 'Conclusions'\n",
        "question_inputs = question_tokenizer(question, return_tensors='pt')\n",
        "question_embedding = question_encoder(**question_inputs).pooler_output.detach().numpy()\n",
        "\n",
        "# Search the index\n",
        "distances, indices = index.kneighbors(question_embedding, n_neighbors=5)  # Retrieve top 5\n",
        "\n",
        "print(\"Distances:\", distances)\n",
        "print(\"Indices:\", indices)"
      ],
      "metadata": {
        "colab": {
          "base_uri": "https://localhost:8080/"
        },
        "id": "SVCkochrmWjd",
        "outputId": "85614389-edd7-4467-9adb-a0e97499a10b"
      },
      "execution_count": 38,
      "outputs": [
        {
          "output_type": "stream",
          "name": "stdout",
          "text": [
            "Distances: [[10.01478672 10.36922169 10.70409584 10.71173382 10.76185226]]\n",
            "Indices: [[17 30 18 23  3]]\n"
          ]
        }
      ]
    },
    {
      "cell_type": "code",
      "source": [
        "print(\"Top 5 relevant contexts:\")\n",
        "for i, idx in enumerate(indices[0]):\n",
        "    print(f\"{i+1}: {paragraphs[idx]}\")\n",
        "    print(f\"distance {distances[0][i]}\\n\")"
      ],
      "metadata": {
        "colab": {
          "base_uri": "https://localhost:8080/"
        },
        "collapsed": true,
        "id": "ZYc7SHommuDZ",
        "outputId": "230109ec-354b-4b98-e831-2584f6a268cb"
      },
      "execution_count": 39,
      "outputs": [
        {
          "output_type": "stream",
          "name": "stdout",
          "text": [
            "Top 5 relevant contexts:\n",
            "1: Conclusions Landslide susceptibility mapping is one of the most challenging tasks in geo-hazard assessment. In this context,  application of modern deep learning techniques can be advantageous for analysis. Here, we applied a novel  CNN–DNN predictive model for assessment of landslide susceptibility in Isfahan province, Iran. The model was  fitted between historical landslides data (which accounted for different types of landsliding) and various triggering  factors. The proposed CNN–DNN model produced a very high accuracy, outperforming a wide range of benchmark approaches, specifically the SVM, LR, GNB, MLP , BNB and DT methods. More specifically, the CNN–DNN  (AUC  = 90.9%; IRs  = 84.8%) achieved greater prediction accuracy than the corresponding single classifiers such  as SVM (AUC = 81.5%; IRs = 80.1%), LR (AUC = 78.3%; IRs = 72.2%), GNB (AUC = 80.1%; IRs = 68.7%), BNB  (AUC  = 50.0%; IRs  = 61.0%), MLP (AUC = 50.9%; IRs  = 61.8%) and DT (AUC  = 85.5%; IRs  = 80.0%) as revealed  through the measured indices. Also, the CNN–DNN (MSE = 0.17, RMSE = 0.40, MAPE = 0.42) produced smaller  error indices than the benchmark models: SVM (MSE = 0.28, RMSE = 0.42, MAPE = 0.44), LR (MSE = 0.25,  RMSE  = 0.50, MAPE = 0.54), GNB (MSE  = 0.29, RMSE  = 0.54, MAPE  = 0.63), BNB (MSE  = 0.38, RMSE  = 0.62,  MAPE = 0.65), MLP (MSE = 0.38, RMSE = 0.62, MAPE = 0.68), and DT (MSE = 0.28, RMSE = 0.42, MAPE = 0.44). Importantly, the CNN  component of the approach has great advantages for landslide susceptibility mapping precisely because it matches  well, and takes advantage of, the spatially extensive nature of the landslide phenomenon itself. The CNN–DNN model predicted a high-susceptibility zone in the west and south-western parts of the study  area, appearing as a stripe aligned with the northwest-southeast main Zagros trend in the region. Investigating landslides with space-borne Synthetic Aperture Radar (SAR) interferometry.\n",
            "distance 10.014786720275879\n",
            "\n",
            "2: The performance matrix is a specific table that visualises the performance of a  prediction algorithm based on its predicted values, and it contains the sensitivity, specificity and 1-specificity  parameters. For classification tasks, true positives (TP), true negatives (TN), false positives (FP) and false negatives (FN) are used to compare the results of the classifier in question with trusted external judgments (Hearty  2016). Precision, also called the positive predictive value, is the fraction of relevant instances (TP) amongst the  retrieved instances. The environmental factors used in the analysis: (a ) climate, (b ) watershed, (c ) drainage pattern, (d )  vegetation using ArcGIS 10.4.1 software  package55. The human-activity related factors used in the analysis: (a ) distance to roads, (b ) distance to cities  using ArcGIS 10.4.1 software  package55. 8 Vol:.(1234567890) Scientific Reports  |        (2021) 11:24112  | https://doi.org/10.1038/s41598-021-03585-1 www.nature.com/scientificreports/Recall (sensitivity) is the total fraction of relevant instances. The false-positive rate can be  calculated as ‘1-specificity’ , where specificity is defined as: Accuracy can be a misleading metric for imbalanced datasets. For example, for a prediction set with 95 posi tive and 5 negative values, classifying all values as negative gives a 0.95 accuracy score. On the other hand, the  F1-score, the harmonic mean of precision and recall, provides approximately the average of the two values when  they are close and is more generally the harmonic mean. The overall accuracy (OA) represents the probability that a test will correctly classify an individual; that is,  the sum of TP plus TN divided by the total number of the individuals tested: OA is, thus, also the weighted average of ‘sensitivity’ and ‘specificity’ (Aggarwal, 2018). The application of the  performance matrix helps to characterise the trustworthiness of the classifier in question.\n",
            "distance 10.369221687316895\n",
            "\n",
            "3: The DT algorithm produced the next largest F1-score, with an average value of 83.5% and a difference of almost  2% less than the proposed model. ROC results for the CNN–DNN model and the benchmark methods. 13 Vol.:(0123456789) Scientific Reports  |        (2021) 11:24112  | https://doi.org/10.1038/s41598-021-03585-1 www.nature.com/scientificreports/Discussion We investigated the potential of a coupled deep neural network (CNN–DNN) to predict landslide susceptibil ity spatially. The algorithm was evaluated using data with a spatial resolution of 30 m representing the Isfahan  province, Iran. Indices associated with historical landslide occurrences (a total of 222 landslides) were used as  the landslide inventory dataset, and this was divided randomly into training (80%) and testing (20%) sets for  the analysis. Four main covariates, including geomorphologic, geologic, environmental and human activityrelated covariates, were identified based on field and remote sensing investigations. The CNN–DNN model was  able to produce a susceptibility map for the study area with appropriate accuracy. The results show a significant  increase in landslide susceptibility prediction accuracy compared to the benchmark models. Notwithstanding  the high accuracy achieved by the proposed CNN–DNN predictive model for landslide susceptibility mapping,  this study has some limitations that could be considered in future research. Theses limitation can be addressed  as: (i ) the primary database was provided based on fieldwork, historical landslide records and remote-sensing  information. The limited number of reference landslides in the recorded data (as is commonly the case) made  modelling challenging; ( ii) the data on the triggering factors were highly dependent on the spatial resolutions of  satellite sensor imagery and DEM data quality, which affected directly the quality of the input database; (iii ) the  predictive model required strong processors to manage the inputs during landslide susceptibility assessments.\n",
            "distance 10.704095840454102\n",
            "\n",
            "4: After the proposed model, the decision tree classifier achieved the next best performance, with  accuracy approximately 5% lower than for the proposed model. The lowest estimated accuracy of 50% was  achieved by the MLP and BNB, which is 40% less than for the proposed model. Regarding accuracy criteria, the  proposed model produced an accuracy of 84.8%, and the closest algorithm (SVM) to the proposed model was  approximately 4.7 less than the proposed model. The processing flowchart of the proposed model. 10 Vol:.(1234567890) Scientific Reports  |        (2021) 11:24112  | https://doi.org/10.1038/s41598-021-03585-1 www.nature.com/scientificreports/ Figure 8. Landslide susceptibility map for the proposed model using ArcGIS 10.4.1 software  package55. The OA and loss function values were obtained for the applied model. 11 Vol.:(0123456789) Scientific Reports  |        (2021) 11:24112  | https://doi.org/10.1038/s41598-021-03585-1 www.nature.com/scientificreports/ Figure 11. The RMSprop optimiser results for the proposed model. 12 Vol:.(1234567890) Scientific Reports  |        (2021) 11:24112  | https://doi.org/10.1038/s41598-021-03585-1 www.nature.com/scientificreports/precision for the two susceptibility classes of the proposed model is 84%. The lowest average accuracy of the  MLP and BNB is 34% (a difference from the proposed model of more than 50%). The average recall rate for the  proposed model is 88%, and the minimum recall rate is 55% for BNB. For the F1-score, the average is 85.5% for  the proposed model, and, as for the other three criteria examined, this is the largest value amongst all models.\n",
            "distance 10.7117338180542\n",
            "\n",
            "5: 1 Vol.:(0123456789) Scientific Reports  |        (2021) 11:24112  | https://doi.org/10.1038/s41598-021-03585-1 www.nature.com/scientificreportsDeep learning‑based landslide  susceptibility mapping Mohammad Azarafza1, Mehdi Azarafza2, Haluk Akgün3, Peter M. Atkinson4 &  Reza Derakhshani5,6* Landslides are considered as one of the most devastating natural hazards in Iran, causing extensive  damage and loss of life. Landslide susceptibility maps for landslide prone areas can be used to plan  for and mitigate the consequences of catastrophic landsliding events. Here, we developed a deep  convolutional neural network (CNN–DNN) for mapping landslide susceptibility, and evaluated it on  the Isfahan province, Iran, which has not previously been assessed on such a scale. The proposed  model was trained and validated using training (80%) and testing (20%) datasets, each containing  relevant data on historical landslides, field records and remote sensing images, and a range of  geomorphological, geological, environmental and human activity factors as covariates. The CNN– DNN model prediction accuracy was tested using a wide range of statistics from the confusion matrix  and error indices from the receiver operating characteristic (ROC) curve. The CNN–DNN model was  evaluated comprehensively by comparing it to several state‑of ‑the‑art benchmark machine learning  techniques including the support vector machine (SVM), logistic regression (LR), Gaussian naïve Bayes  (GNB), multilayer perceptron (MLP), Bernoulli Naïve Bayes (BNB) and decision tree (DT) classifiers. The CNN–DNN model for landslide susceptibility mapping was found to predict more accurately  than the benchmark algorithms, with an AUC  = 90.9%, IRs = 84.8%, MSE = 0.17, RMSE = 0.40, and  MAPE = 0.42. The map provided by the CNN–DNN clearly revealed a high‑susceptibility area in the  west and southwest, related to the main Zagros trend in the province. These findings can be of great  utility for landslide risk management and land use planning in the Isfahan province.\n",
            "distance 10.761852264404297\n",
            "\n"
          ]
        }
      ]
    },
    {
      "cell_type": "code",
      "source": [
        "def search_relevant_contexts(question, question_tokenizer, question_encoder, index, k=5):\n",
        "  question_inputs = question_tokenizer(question, return_tensors='pt')\n",
        "  question_embedding = question_encoder(**question_inputs).pooler_output.detach().numpy()\n",
        "  distances, indices = index.kneighbors(question_embedding, n_neighbors=10)\n",
        "  return indices, distances\n"
      ],
      "metadata": {
        "id": "BVGVTbSensAf"
      },
      "execution_count": 40,
      "outputs": []
    },
    {
      "cell_type": "code",
      "source": [
        "from transformers import AutoTokenizer, AutoModelForCausalLM\n",
        "\n",
        "# Load tokenizer and model\n",
        "tokenizer = AutoTokenizer.from_pretrained(\"openai-community/gpt2\")\n",
        "model = AutoModelForCausalLM.from_pretrained(\"openai-community/gpt2\")\n",
        "\n",
        "# Ensure pad_token exists (GPT2 doesn't have it by default)\n",
        "if tokenizer.pad_token is None:\n",
        "    tokenizer.pad_token = tokenizer.eos_token\n",
        "\n",
        "# Resize model embeddings if new tokens were added\n",
        "model.resize_token_embeddings(len(tokenizer))\n",
        "\n",
        "# Set generation config pad_token_id\n",
        "model.generation_config.pad_token_id = tokenizer.pad_token_id\n"
      ],
      "metadata": {
        "id": "zmoq-3X0o8Aw"
      },
      "execution_count": 56,
      "outputs": []
    },
    {
      "cell_type": "code",
      "source": [
        "print(model.config._name_or_path)"
      ],
      "metadata": {
        "colab": {
          "base_uri": "https://localhost:8080/"
        },
        "id": "iZ26RWeJsU_C",
        "outputId": "45ddc00d-6538-47f1-e4b9-d11ef1a41c83"
      },
      "execution_count": 57,
      "outputs": [
        {
          "output_type": "stream",
          "name": "stdout",
          "text": [
            "openai-community/gpt2\n"
          ]
        }
      ]
    },
    {
      "cell_type": "code",
      "source": [
        "def generate_answer_without_context(question):\n",
        "    # Tokenize the input question\n",
        "    inputs = tokenizer(question, return_tensors='pt', max_length=1024, truncation=True)\n",
        "\n",
        "    # Generate output directly from the question without additional context\n",
        "    summary_ids = model.generate(inputs['input_ids'], max_length=150, min_length=40, length_penalty=2.0,\n",
        "                                 num_beams=4, early_stopping=True,pad_token_id=tokenizer.eos_token_id)\n",
        "\n",
        "    # Decode and return the generated text\n",
        "    answer = tokenizer.decode(summary_ids[0], skip_special_tokens=True)\n",
        "    return answer"
      ],
      "metadata": {
        "id": "Kb6FZ44MpBsH"
      },
      "execution_count": 58,
      "outputs": []
    },
    {
      "cell_type": "code",
      "source": [
        "question = \"what is mobile policy?\"\n",
        "answer = generate_answer_without_context(question)\n",
        "\n",
        "print(\"Answer:\", answer)"
      ],
      "metadata": {
        "colab": {
          "base_uri": "https://localhost:8080/"
        },
        "id": "gJZJ0hjVpHzr",
        "outputId": "4ba1b047-1644-418c-9fe4-62cac765d8df"
      },
      "execution_count": 59,
      "outputs": [
        {
          "output_type": "stream",
          "name": "stdout",
          "text": [
            "Answer: what is mobile policy?\n",
            "\n",
            "Mobile policy is a set of rules and regulations that govern the use of mobile phones and other electronic devices in the United States. Mobile policy is a set of rules and regulations that govern the use of mobile phones and other electronic devices in the United States. Mobile policy is a set of rules and regulations that govern the use of mobile phones and other electronic devices in the United States. Mobile policy is a set of rules and regulations that govern the use of mobile phones and other electronic devices in the United States. Mobile policy is a set of rules and regulations that govern the use of mobile phones and other electronic devices in the United States. Mobile policy is a set of rules and regulations that govern the use of mobile phones and other\n"
          ]
        }
      ]
    },
    {
      "cell_type": "code",
      "source": [
        "question = \"What is the architecture used in this model?Explain\"\n",
        "answer = generate_answer_without_context(question)\n",
        "\n",
        "print(\"Answer:\", answer)"
      ],
      "metadata": {
        "colab": {
          "base_uri": "https://localhost:8080/"
        },
        "collapsed": true,
        "id": "FoawuMZ-pMKd",
        "outputId": "69329c21-5630-4dea-ce28-0100f78b1488"
      },
      "execution_count": 60,
      "outputs": [
        {
          "output_type": "stream",
          "name": "stdout",
          "text": [
            "Answer: What is the architecture used in this model?Explain what the architecture is and how it works.\n",
            "\n",
            "What is the architecture used in this model?Explain what the architecture is and how it works.\n",
            "\n",
            "What is the architecture used in this model?Explain what the architecture is and how it works.\n",
            "\n",
            "What is the architecture used in this model?Explain what the architecture is and how it works.\n",
            "\n",
            "What is the architecture used in this model?Explain what the architecture is and how it works.\n",
            "\n",
            "What is the architecture used in this model?Explain what the architecture is and how it works.\n",
            "\n",
            "What is the architecture used in this model?Explain what the architecture is and how it\n"
          ]
        }
      ]
    },
    {
      "cell_type": "code",
      "source": [
        "def generate_answer(question, contexts):\n",
        "    # Concatenate and trim the context to a manageable length\n",
        "    input_context = ' '.join(contexts)\n",
        "    max_context_length = 1800  # adjust to stay under model token limit\n",
        "    input_context = input_context[:max_context_length]\n",
        "\n",
        "    # Combine question and context\n",
        "    input_text = question + ' ' + input_context\n",
        "\n",
        "    # Tokenize with truncation to prevent input overflow\n",
        "    inputs = tokenizer(\n",
        "        input_text,\n",
        "        return_tensors='pt',\n",
        "        truncation=True,\n",
        "        max_length=1024,\n",
        "        padding='max_length'\n",
        "    )\n",
        "\n",
        "    # Generate output\n",
        "    output_ids = model.generate(\n",
        "        inputs['input_ids'],\n",
        "        max_new_tokens=100,\n",
        "        do_sample=False,\n",
        "        min_length=40,\n",
        "        length_penalty=2.0,\n",
        "        num_beams=4,\n",
        "        early_stopping=True,\n",
        "        #temperature=0.7,\n",
        "        #top_k=3,\n",
        "        #top_p=0.95,\n",
        "        pad_token_id=tokenizer.pad_token_id\n",
        "    )\n",
        "\n",
        "    output_text = tokenizer.decode(output_ids[0], skip_special_tokens=True)\n",
        "\n",
        "    # Extract only the generated part after \"Answer:\"\n",
        "    if \"Answer:\" in output_text:\n",
        "        return output_text.split(\"Answer:\")[-1].strip()\n",
        "    else:\n",
        "        return output_text.strip()"
      ],
      "metadata": {
        "id": "AoX8mkk9pWEX"
      },
      "execution_count": 69,
      "outputs": []
    },
    {
      "cell_type": "code",
      "source": [],
      "metadata": {
        "id": "voBi-VcJvUPv"
      },
      "execution_count": null,
      "outputs": []
    },
    {
      "cell_type": "code",
      "source": [],
      "metadata": {
        "id": "W_4vDGWjvUM7"
      },
      "execution_count": null,
      "outputs": []
    },
    {
      "cell_type": "code",
      "source": [
        "_,I =search_relevant_contexts(question, question_tokenizer, question_encoder, index, k=5)\n",
        "\n",
        "print(f\"paragraphs indexs {I}\")\n",
        "\n",
        "top_contexts = [paragraphs[int(idx)] for idx in I[0]]\n",
        "print(f\"top_contexts {top_contexts}\")\n",
        "question = \"What is the architecture used in this model?Explain\"\n",
        "\n",
        "answer = generate_answer(question, top_contexts)\n",
        "print(\"Generated Answer:\", answer)"
      ],
      "metadata": {
        "colab": {
          "base_uri": "https://localhost:8080/",
          "height": 428
        },
        "id": "EQ0lDeWHplvQ",
        "outputId": "078517fa-0fe1-44ff-f52f-7e8ed4c65be8"
      },
      "execution_count": 70,
      "outputs": [
        {
          "output_type": "stream",
          "name": "stdout",
          "text": [
            "paragraphs indexs [[10.18331432 10.20766449 10.26643848 10.39528656 10.39799404 10.4692688\n",
            "  10.56363964 10.5746479  10.61281109 10.64727497]]\n",
            "top_contexts ['Since spatial prediction (i.e., mapping) is crucial  for a range of applications including crisis management, urban planning and geo-hazard assessment (including  landslide susceptibility assessment), the coupled CNN and DNN classifier has found wide  applicability8,37,42,49. In the CNN–DNN classifier, the input data are evaluated by convolution, pooling, batch normalisation, dense,  dropout and fully connected layers to predict the outputs (Fig.\\xa0 1). The input data provide the first layer of evaluation as a data matrix in which each  element has a specific feature value. Hence, the input layer is the primary feature map modified and organised  by each convolutional layer and unit. The first convolutional layer extracts some low-level features (e.g., lines, edges, corners). Further convolutional layers learn  iteratively more intricate representations or features. Max-pooling  is the most common manipulation amongst the different pooling approaches. Max-pooling aims to divide the  feature maps into several rectangular zones and provide the maximum value for each  zone42. Batch normalisa tion (or batch -norm) aims to increase the speed, performance and stability of the network. Batch normalisation  is used to normalise the input layer by re-centring and re-scaling.', 'Since spatial prediction (i.e., mapping) is crucial  for a range of applications including crisis management, urban planning and geo-hazard assessment (including  landslide susceptibility assessment), the coupled CNN and DNN classifier has found wide  applicability8,37,42,49. In the CNN–DNN classifier, the input data are evaluated by convolution, pooling, batch normalisation, dense,  dropout and fully connected layers to predict the outputs (Fig.\\xa0 1). The input data provide the first layer of evaluation as a data matrix in which each  element has a specific feature value. Hence, the input layer is the primary feature map modified and organised  by each convolutional layer and unit. The first convolutional layer extracts some low-level features (e.g., lines, edges, corners). Further convolutional layers learn  iteratively more intricate representations or features. Max-pooling  is the most common manipulation amongst the different pooling approaches. Max-pooling aims to divide the  feature maps into several rectangular zones and provide the maximum value for each  zone42. Batch normalisa tion (or batch -norm) aims to increase the speed, performance and stability of the network. Batch normalisation  is used to normalise the input layer by re-centring and re-scaling.', 'Since spatial prediction (i.e., mapping) is crucial  for a range of applications including crisis management, urban planning and geo-hazard assessment (including  landslide susceptibility assessment), the coupled CNN and DNN classifier has found wide  applicability8,37,42,49. In the CNN–DNN classifier, the input data are evaluated by convolution, pooling, batch normalisation, dense,  dropout and fully connected layers to predict the outputs (Fig.\\xa0 1). The input data provide the first layer of evaluation as a data matrix in which each  element has a specific feature value. Hence, the input layer is the primary feature map modified and organised  by each convolutional layer and unit. The first convolutional layer extracts some low-level features (e.g., lines, edges, corners). Further convolutional layers learn  iteratively more intricate representations or features. Max-pooling  is the most common manipulation amongst the different pooling approaches. Max-pooling aims to divide the  feature maps into several rectangular zones and provide the maximum value for each  zone42. Batch normalisa tion (or batch -norm) aims to increase the speed, performance and stability of the network. Batch normalisation  is used to normalise the input layer by re-centring and re-scaling.', 'Since spatial prediction (i.e., mapping) is crucial  for a range of applications including crisis management, urban planning and geo-hazard assessment (including  landslide susceptibility assessment), the coupled CNN and DNN classifier has found wide  applicability8,37,42,49. In the CNN–DNN classifier, the input data are evaluated by convolution, pooling, batch normalisation, dense,  dropout and fully connected layers to predict the outputs (Fig.\\xa0 1). The input data provide the first layer of evaluation as a data matrix in which each  element has a specific feature value. Hence, the input layer is the primary feature map modified and organised  by each convolutional layer and unit. The first convolutional layer extracts some low-level features (e.g., lines, edges, corners). Further convolutional layers learn  iteratively more intricate representations or features. Max-pooling  is the most common manipulation amongst the different pooling approaches. Max-pooling aims to divide the  feature maps into several rectangular zones and provide the maximum value for each  zone42. Batch normalisa tion (or batch -norm) aims to increase the speed, performance and stability of the network. Batch normalisation  is used to normalise the input layer by re-centring and re-scaling.', 'Since spatial prediction (i.e., mapping) is crucial  for a range of applications including crisis management, urban planning and geo-hazard assessment (including  landslide susceptibility assessment), the coupled CNN and DNN classifier has found wide  applicability8,37,42,49. In the CNN–DNN classifier, the input data are evaluated by convolution, pooling, batch normalisation, dense,  dropout and fully connected layers to predict the outputs (Fig.\\xa0 1). The input data provide the first layer of evaluation as a data matrix in which each  element has a specific feature value. Hence, the input layer is the primary feature map modified and organised  by each convolutional layer and unit. The first convolutional layer extracts some low-level features (e.g., lines, edges, corners). Further convolutional layers learn  iteratively more intricate representations or features. Max-pooling  is the most common manipulation amongst the different pooling approaches. Max-pooling aims to divide the  feature maps into several rectangular zones and provide the maximum value for each  zone42. Batch normalisa tion (or batch -norm) aims to increase the speed, performance and stability of the network. Batch normalisation  is used to normalise the input layer by re-centring and re-scaling.', 'Since spatial prediction (i.e., mapping) is crucial  for a range of applications including crisis management, urban planning and geo-hazard assessment (including  landslide susceptibility assessment), the coupled CNN and DNN classifier has found wide  applicability8,37,42,49. In the CNN–DNN classifier, the input data are evaluated by convolution, pooling, batch normalisation, dense,  dropout and fully connected layers to predict the outputs (Fig.\\xa0 1). The input data provide the first layer of evaluation as a data matrix in which each  element has a specific feature value. Hence, the input layer is the primary feature map modified and organised  by each convolutional layer and unit. The first convolutional layer extracts some low-level features (e.g., lines, edges, corners). Further convolutional layers learn  iteratively more intricate representations or features. Max-pooling  is the most common manipulation amongst the different pooling approaches. Max-pooling aims to divide the  feature maps into several rectangular zones and provide the maximum value for each  zone42. Batch normalisa tion (or batch -norm) aims to increase the speed, performance and stability of the network. Batch normalisation  is used to normalise the input layer by re-centring and re-scaling.', 'Since spatial prediction (i.e., mapping) is crucial  for a range of applications including crisis management, urban planning and geo-hazard assessment (including  landslide susceptibility assessment), the coupled CNN and DNN classifier has found wide  applicability8,37,42,49. In the CNN–DNN classifier, the input data are evaluated by convolution, pooling, batch normalisation, dense,  dropout and fully connected layers to predict the outputs (Fig.\\xa0 1). The input data provide the first layer of evaluation as a data matrix in which each  element has a specific feature value. Hence, the input layer is the primary feature map modified and organised  by each convolutional layer and unit. The first convolutional layer extracts some low-level features (e.g., lines, edges, corners). Further convolutional layers learn  iteratively more intricate representations or features. Max-pooling  is the most common manipulation amongst the different pooling approaches. Max-pooling aims to divide the  feature maps into several rectangular zones and provide the maximum value for each  zone42. Batch normalisa tion (or batch -norm) aims to increase the speed, performance and stability of the network. Batch normalisation  is used to normalise the input layer by re-centring and re-scaling.', 'Since spatial prediction (i.e., mapping) is crucial  for a range of applications including crisis management, urban planning and geo-hazard assessment (including  landslide susceptibility assessment), the coupled CNN and DNN classifier has found wide  applicability8,37,42,49. In the CNN–DNN classifier, the input data are evaluated by convolution, pooling, batch normalisation, dense,  dropout and fully connected layers to predict the outputs (Fig.\\xa0 1). The input data provide the first layer of evaluation as a data matrix in which each  element has a specific feature value. Hence, the input layer is the primary feature map modified and organised  by each convolutional layer and unit. The first convolutional layer extracts some low-level features (e.g., lines, edges, corners). Further convolutional layers learn  iteratively more intricate representations or features. Max-pooling  is the most common manipulation amongst the different pooling approaches. Max-pooling aims to divide the  feature maps into several rectangular zones and provide the maximum value for each  zone42. Batch normalisa tion (or batch -norm) aims to increase the speed, performance and stability of the network. Batch normalisation  is used to normalise the input layer by re-centring and re-scaling.', 'Since spatial prediction (i.e., mapping) is crucial  for a range of applications including crisis management, urban planning and geo-hazard assessment (including  landslide susceptibility assessment), the coupled CNN and DNN classifier has found wide  applicability8,37,42,49. In the CNN–DNN classifier, the input data are evaluated by convolution, pooling, batch normalisation, dense,  dropout and fully connected layers to predict the outputs (Fig.\\xa0 1). The input data provide the first layer of evaluation as a data matrix in which each  element has a specific feature value. Hence, the input layer is the primary feature map modified and organised  by each convolutional layer and unit. The first convolutional layer extracts some low-level features (e.g., lines, edges, corners). Further convolutional layers learn  iteratively more intricate representations or features. Max-pooling  is the most common manipulation amongst the different pooling approaches. Max-pooling aims to divide the  feature maps into several rectangular zones and provide the maximum value for each  zone42. Batch normalisa tion (or batch -norm) aims to increase the speed, performance and stability of the network. Batch normalisation  is used to normalise the input layer by re-centring and re-scaling.', 'Since spatial prediction (i.e., mapping) is crucial  for a range of applications including crisis management, urban planning and geo-hazard assessment (including  landslide susceptibility assessment), the coupled CNN and DNN classifier has found wide  applicability8,37,42,49. In the CNN–DNN classifier, the input data are evaluated by convolution, pooling, batch normalisation, dense,  dropout and fully connected layers to predict the outputs (Fig.\\xa0 1). The input data provide the first layer of evaluation as a data matrix in which each  element has a specific feature value. Hence, the input layer is the primary feature map modified and organised  by each convolutional layer and unit. The first convolutional layer extracts some low-level features (e.g., lines, edges, corners). Further convolutional layers learn  iteratively more intricate representations or features. Max-pooling  is the most common manipulation amongst the different pooling approaches. Max-pooling aims to divide the  feature maps into several rectangular zones and provide the maximum value for each  zone42. Batch normalisa tion (or batch -norm) aims to increase the speed, performance and stability of the network. Batch normalisation  is used to normalise the input layer by re-centring and re-scaling.']\n"
          ]
        },
        {
          "output_type": "error",
          "ename": "IndexError",
          "evalue": "index out of range in self",
          "traceback": [
            "\u001b[0;31m---------------------------------------------------------------------------\u001b[0m",
            "\u001b[0;31mIndexError\u001b[0m                                Traceback (most recent call last)",
            "\u001b[0;32m<ipython-input-70-1045262310>\u001b[0m in \u001b[0;36m<cell line: 0>\u001b[0;34m()\u001b[0m\n\u001b[1;32m      7\u001b[0m \u001b[0mquestion\u001b[0m \u001b[0;34m=\u001b[0m \u001b[0;34m\"What is the architecture used in this model?Explain\"\u001b[0m\u001b[0;34m\u001b[0m\u001b[0;34m\u001b[0m\u001b[0m\n\u001b[1;32m      8\u001b[0m \u001b[0;34m\u001b[0m\u001b[0m\n\u001b[0;32m----> 9\u001b[0;31m \u001b[0manswer\u001b[0m \u001b[0;34m=\u001b[0m \u001b[0mgenerate_answer\u001b[0m\u001b[0;34m(\u001b[0m\u001b[0mquestion\u001b[0m\u001b[0;34m,\u001b[0m \u001b[0mtop_contexts\u001b[0m\u001b[0;34m)\u001b[0m\u001b[0;34m\u001b[0m\u001b[0;34m\u001b[0m\u001b[0m\n\u001b[0m\u001b[1;32m     10\u001b[0m \u001b[0mprint\u001b[0m\u001b[0;34m(\u001b[0m\u001b[0;34m\"Generated Answer:\"\u001b[0m\u001b[0;34m,\u001b[0m \u001b[0manswer\u001b[0m\u001b[0;34m)\u001b[0m\u001b[0;34m\u001b[0m\u001b[0;34m\u001b[0m\u001b[0m\n",
            "\u001b[0;32m<ipython-input-69-1155032624>\u001b[0m in \u001b[0;36mgenerate_answer\u001b[0;34m(question, contexts)\u001b[0m\n\u001b[1;32m     18\u001b[0m \u001b[0;34m\u001b[0m\u001b[0m\n\u001b[1;32m     19\u001b[0m     \u001b[0;31m# Generate output\u001b[0m\u001b[0;34m\u001b[0m\u001b[0;34m\u001b[0m\u001b[0m\n\u001b[0;32m---> 20\u001b[0;31m     output_ids = model.generate(\n\u001b[0m\u001b[1;32m     21\u001b[0m         \u001b[0minputs\u001b[0m\u001b[0;34m[\u001b[0m\u001b[0;34m'input_ids'\u001b[0m\u001b[0;34m]\u001b[0m\u001b[0;34m,\u001b[0m\u001b[0;34m\u001b[0m\u001b[0;34m\u001b[0m\u001b[0m\n\u001b[1;32m     22\u001b[0m         \u001b[0mmax_new_tokens\u001b[0m\u001b[0;34m=\u001b[0m\u001b[0;36m100\u001b[0m\u001b[0;34m,\u001b[0m\u001b[0;34m\u001b[0m\u001b[0;34m\u001b[0m\u001b[0m\n",
            "\u001b[0;32m/usr/local/lib/python3.11/dist-packages/torch/utils/_contextlib.py\u001b[0m in \u001b[0;36mdecorate_context\u001b[0;34m(*args, **kwargs)\u001b[0m\n\u001b[1;32m    114\u001b[0m     \u001b[0;32mdef\u001b[0m \u001b[0mdecorate_context\u001b[0m\u001b[0;34m(\u001b[0m\u001b[0;34m*\u001b[0m\u001b[0margs\u001b[0m\u001b[0;34m,\u001b[0m \u001b[0;34m**\u001b[0m\u001b[0mkwargs\u001b[0m\u001b[0;34m)\u001b[0m\u001b[0;34m:\u001b[0m\u001b[0;34m\u001b[0m\u001b[0;34m\u001b[0m\u001b[0m\n\u001b[1;32m    115\u001b[0m         \u001b[0;32mwith\u001b[0m \u001b[0mctx_factory\u001b[0m\u001b[0;34m(\u001b[0m\u001b[0;34m)\u001b[0m\u001b[0;34m:\u001b[0m\u001b[0;34m\u001b[0m\u001b[0;34m\u001b[0m\u001b[0m\n\u001b[0;32m--> 116\u001b[0;31m             \u001b[0;32mreturn\u001b[0m \u001b[0mfunc\u001b[0m\u001b[0;34m(\u001b[0m\u001b[0;34m*\u001b[0m\u001b[0margs\u001b[0m\u001b[0;34m,\u001b[0m \u001b[0;34m**\u001b[0m\u001b[0mkwargs\u001b[0m\u001b[0;34m)\u001b[0m\u001b[0;34m\u001b[0m\u001b[0;34m\u001b[0m\u001b[0m\n\u001b[0m\u001b[1;32m    117\u001b[0m \u001b[0;34m\u001b[0m\u001b[0m\n\u001b[1;32m    118\u001b[0m     \u001b[0;32mreturn\u001b[0m \u001b[0mdecorate_context\u001b[0m\u001b[0;34m\u001b[0m\u001b[0;34m\u001b[0m\u001b[0m\n",
            "\u001b[0;32m/usr/local/lib/python3.11/dist-packages/transformers/generation/utils.py\u001b[0m in \u001b[0;36mgenerate\u001b[0;34m(self, inputs, generation_config, logits_processor, stopping_criteria, prefix_allowed_tokens_fn, synced_gpus, assistant_model, streamer, negative_prompt_ids, negative_prompt_attention_mask, use_model_defaults, custom_generate, **kwargs)\u001b[0m\n\u001b[1;32m   2614\u001b[0m             )\n\u001b[1;32m   2615\u001b[0m             \u001b[0;31m# 12. run beam sample\u001b[0m\u001b[0;34m\u001b[0m\u001b[0;34m\u001b[0m\u001b[0m\n\u001b[0;32m-> 2616\u001b[0;31m             result = self._beam_search(\n\u001b[0m\u001b[1;32m   2617\u001b[0m                 \u001b[0minput_ids\u001b[0m\u001b[0;34m,\u001b[0m\u001b[0;34m\u001b[0m\u001b[0;34m\u001b[0m\u001b[0m\n\u001b[1;32m   2618\u001b[0m                 \u001b[0mlogits_processor\u001b[0m\u001b[0;34m=\u001b[0m\u001b[0mprepared_logits_processor\u001b[0m\u001b[0;34m,\u001b[0m\u001b[0;34m\u001b[0m\u001b[0;34m\u001b[0m\u001b[0m\n",
            "\u001b[0;32m/usr/local/lib/python3.11/dist-packages/transformers/generation/utils.py\u001b[0m in \u001b[0;36m_beam_search\u001b[0;34m(self, input_ids, logits_processor, stopping_criteria, generation_config, synced_gpus, **model_kwargs)\u001b[0m\n\u001b[1;32m   4028\u001b[0m             \u001b[0mmodel_inputs\u001b[0m\u001b[0;34m.\u001b[0m\u001b[0mupdate\u001b[0m\u001b[0;34m(\u001b[0m\u001b[0;34m{\u001b[0m\u001b[0;34m\"output_hidden_states\"\u001b[0m\u001b[0;34m:\u001b[0m \u001b[0moutput_hidden_states\u001b[0m\u001b[0;34m}\u001b[0m \u001b[0;32mif\u001b[0m \u001b[0moutput_hidden_states\u001b[0m \u001b[0;32melse\u001b[0m \u001b[0;34m{\u001b[0m\u001b[0;34m}\u001b[0m\u001b[0;34m)\u001b[0m\u001b[0;34m\u001b[0m\u001b[0;34m\u001b[0m\u001b[0m\n\u001b[1;32m   4029\u001b[0m \u001b[0;34m\u001b[0m\u001b[0m\n\u001b[0;32m-> 4030\u001b[0;31m             \u001b[0mmodel_outputs\u001b[0m \u001b[0;34m=\u001b[0m \u001b[0mself\u001b[0m\u001b[0;34m(\u001b[0m\u001b[0;34m**\u001b[0m\u001b[0mmodel_inputs\u001b[0m\u001b[0;34m,\u001b[0m \u001b[0mreturn_dict\u001b[0m\u001b[0;34m=\u001b[0m\u001b[0;32mTrue\u001b[0m\u001b[0;34m)\u001b[0m\u001b[0;34m\u001b[0m\u001b[0;34m\u001b[0m\u001b[0m\n\u001b[0m\u001b[1;32m   4031\u001b[0m \u001b[0;34m\u001b[0m\u001b[0m\n\u001b[1;32m   4032\u001b[0m             \u001b[0;31m# synced_gpus: don't waste resources running the code we don't need; kwargs must be updated before skipping\u001b[0m\u001b[0;34m\u001b[0m\u001b[0;34m\u001b[0m\u001b[0m\n",
            "\u001b[0;32m/usr/local/lib/python3.11/dist-packages/torch/nn/modules/module.py\u001b[0m in \u001b[0;36m_wrapped_call_impl\u001b[0;34m(self, *args, **kwargs)\u001b[0m\n\u001b[1;32m   1737\u001b[0m             \u001b[0;32mreturn\u001b[0m \u001b[0mself\u001b[0m\u001b[0;34m.\u001b[0m\u001b[0m_compiled_call_impl\u001b[0m\u001b[0;34m(\u001b[0m\u001b[0;34m*\u001b[0m\u001b[0margs\u001b[0m\u001b[0;34m,\u001b[0m \u001b[0;34m**\u001b[0m\u001b[0mkwargs\u001b[0m\u001b[0;34m)\u001b[0m  \u001b[0;31m# type: ignore[misc]\u001b[0m\u001b[0;34m\u001b[0m\u001b[0;34m\u001b[0m\u001b[0m\n\u001b[1;32m   1738\u001b[0m         \u001b[0;32melse\u001b[0m\u001b[0;34m:\u001b[0m\u001b[0;34m\u001b[0m\u001b[0;34m\u001b[0m\u001b[0m\n\u001b[0;32m-> 1739\u001b[0;31m             \u001b[0;32mreturn\u001b[0m \u001b[0mself\u001b[0m\u001b[0;34m.\u001b[0m\u001b[0m_call_impl\u001b[0m\u001b[0;34m(\u001b[0m\u001b[0;34m*\u001b[0m\u001b[0margs\u001b[0m\u001b[0;34m,\u001b[0m \u001b[0;34m**\u001b[0m\u001b[0mkwargs\u001b[0m\u001b[0;34m)\u001b[0m\u001b[0;34m\u001b[0m\u001b[0;34m\u001b[0m\u001b[0m\n\u001b[0m\u001b[1;32m   1740\u001b[0m \u001b[0;34m\u001b[0m\u001b[0m\n\u001b[1;32m   1741\u001b[0m     \u001b[0;31m# torchrec tests the code consistency with the following code\u001b[0m\u001b[0;34m\u001b[0m\u001b[0;34m\u001b[0m\u001b[0m\n",
            "\u001b[0;32m/usr/local/lib/python3.11/dist-packages/torch/nn/modules/module.py\u001b[0m in \u001b[0;36m_call_impl\u001b[0;34m(self, *args, **kwargs)\u001b[0m\n\u001b[1;32m   1748\u001b[0m                 \u001b[0;32mor\u001b[0m \u001b[0m_global_backward_pre_hooks\u001b[0m \u001b[0;32mor\u001b[0m \u001b[0m_global_backward_hooks\u001b[0m\u001b[0;34m\u001b[0m\u001b[0;34m\u001b[0m\u001b[0m\n\u001b[1;32m   1749\u001b[0m                 or _global_forward_hooks or _global_forward_pre_hooks):\n\u001b[0;32m-> 1750\u001b[0;31m             \u001b[0;32mreturn\u001b[0m \u001b[0mforward_call\u001b[0m\u001b[0;34m(\u001b[0m\u001b[0;34m*\u001b[0m\u001b[0margs\u001b[0m\u001b[0;34m,\u001b[0m \u001b[0;34m**\u001b[0m\u001b[0mkwargs\u001b[0m\u001b[0;34m)\u001b[0m\u001b[0;34m\u001b[0m\u001b[0;34m\u001b[0m\u001b[0m\n\u001b[0m\u001b[1;32m   1751\u001b[0m \u001b[0;34m\u001b[0m\u001b[0m\n\u001b[1;32m   1752\u001b[0m         \u001b[0mresult\u001b[0m \u001b[0;34m=\u001b[0m \u001b[0;32mNone\u001b[0m\u001b[0;34m\u001b[0m\u001b[0;34m\u001b[0m\u001b[0m\n",
            "\u001b[0;32m/usr/local/lib/python3.11/dist-packages/transformers/models/gpt2/modeling_gpt2.py\u001b[0m in \u001b[0;36mforward\u001b[0;34m(self, input_ids, past_key_values, cache_position, attention_mask, token_type_ids, position_ids, head_mask, inputs_embeds, encoder_hidden_states, encoder_attention_mask, labels, use_cache, output_attentions, output_hidden_states, return_dict, **kwargs)\u001b[0m\n\u001b[1;32m   1208\u001b[0m         \u001b[0mreturn_dict\u001b[0m \u001b[0;34m=\u001b[0m \u001b[0mreturn_dict\u001b[0m \u001b[0;32mif\u001b[0m \u001b[0mreturn_dict\u001b[0m \u001b[0;32mis\u001b[0m \u001b[0;32mnot\u001b[0m \u001b[0;32mNone\u001b[0m \u001b[0;32melse\u001b[0m \u001b[0mself\u001b[0m\u001b[0;34m.\u001b[0m\u001b[0mconfig\u001b[0m\u001b[0;34m.\u001b[0m\u001b[0muse_return_dict\u001b[0m\u001b[0;34m\u001b[0m\u001b[0;34m\u001b[0m\u001b[0m\n\u001b[1;32m   1209\u001b[0m \u001b[0;34m\u001b[0m\u001b[0m\n\u001b[0;32m-> 1210\u001b[0;31m         transformer_outputs = self.transformer(\n\u001b[0m\u001b[1;32m   1211\u001b[0m             \u001b[0minput_ids\u001b[0m\u001b[0;34m,\u001b[0m\u001b[0;34m\u001b[0m\u001b[0;34m\u001b[0m\u001b[0m\n\u001b[1;32m   1212\u001b[0m             \u001b[0mpast_key_values\u001b[0m\u001b[0;34m=\u001b[0m\u001b[0mpast_key_values\u001b[0m\u001b[0;34m,\u001b[0m\u001b[0;34m\u001b[0m\u001b[0;34m\u001b[0m\u001b[0m\n",
            "\u001b[0;32m/usr/local/lib/python3.11/dist-packages/torch/nn/modules/module.py\u001b[0m in \u001b[0;36m_wrapped_call_impl\u001b[0;34m(self, *args, **kwargs)\u001b[0m\n\u001b[1;32m   1737\u001b[0m             \u001b[0;32mreturn\u001b[0m \u001b[0mself\u001b[0m\u001b[0;34m.\u001b[0m\u001b[0m_compiled_call_impl\u001b[0m\u001b[0;34m(\u001b[0m\u001b[0;34m*\u001b[0m\u001b[0margs\u001b[0m\u001b[0;34m,\u001b[0m \u001b[0;34m**\u001b[0m\u001b[0mkwargs\u001b[0m\u001b[0;34m)\u001b[0m  \u001b[0;31m# type: ignore[misc]\u001b[0m\u001b[0;34m\u001b[0m\u001b[0;34m\u001b[0m\u001b[0m\n\u001b[1;32m   1738\u001b[0m         \u001b[0;32melse\u001b[0m\u001b[0;34m:\u001b[0m\u001b[0;34m\u001b[0m\u001b[0;34m\u001b[0m\u001b[0m\n\u001b[0;32m-> 1739\u001b[0;31m             \u001b[0;32mreturn\u001b[0m \u001b[0mself\u001b[0m\u001b[0;34m.\u001b[0m\u001b[0m_call_impl\u001b[0m\u001b[0;34m(\u001b[0m\u001b[0;34m*\u001b[0m\u001b[0margs\u001b[0m\u001b[0;34m,\u001b[0m \u001b[0;34m**\u001b[0m\u001b[0mkwargs\u001b[0m\u001b[0;34m)\u001b[0m\u001b[0;34m\u001b[0m\u001b[0;34m\u001b[0m\u001b[0m\n\u001b[0m\u001b[1;32m   1740\u001b[0m \u001b[0;34m\u001b[0m\u001b[0m\n\u001b[1;32m   1741\u001b[0m     \u001b[0;31m# torchrec tests the code consistency with the following code\u001b[0m\u001b[0;34m\u001b[0m\u001b[0;34m\u001b[0m\u001b[0m\n",
            "\u001b[0;32m/usr/local/lib/python3.11/dist-packages/torch/nn/modules/module.py\u001b[0m in \u001b[0;36m_call_impl\u001b[0;34m(self, *args, **kwargs)\u001b[0m\n\u001b[1;32m   1748\u001b[0m                 \u001b[0;32mor\u001b[0m \u001b[0m_global_backward_pre_hooks\u001b[0m \u001b[0;32mor\u001b[0m \u001b[0m_global_backward_hooks\u001b[0m\u001b[0;34m\u001b[0m\u001b[0;34m\u001b[0m\u001b[0m\n\u001b[1;32m   1749\u001b[0m                 or _global_forward_hooks or _global_forward_pre_hooks):\n\u001b[0;32m-> 1750\u001b[0;31m             \u001b[0;32mreturn\u001b[0m \u001b[0mforward_call\u001b[0m\u001b[0;34m(\u001b[0m\u001b[0;34m*\u001b[0m\u001b[0margs\u001b[0m\u001b[0;34m,\u001b[0m \u001b[0;34m**\u001b[0m\u001b[0mkwargs\u001b[0m\u001b[0;34m)\u001b[0m\u001b[0;34m\u001b[0m\u001b[0;34m\u001b[0m\u001b[0m\n\u001b[0m\u001b[1;32m   1751\u001b[0m \u001b[0;34m\u001b[0m\u001b[0m\n\u001b[1;32m   1752\u001b[0m         \u001b[0mresult\u001b[0m \u001b[0;34m=\u001b[0m \u001b[0;32mNone\u001b[0m\u001b[0;34m\u001b[0m\u001b[0;34m\u001b[0m\u001b[0m\n",
            "\u001b[0;32m/usr/local/lib/python3.11/dist-packages/transformers/models/gpt2/modeling_gpt2.py\u001b[0m in \u001b[0;36mforward\u001b[0;34m(self, input_ids, past_key_values, cache_position, attention_mask, token_type_ids, position_ids, head_mask, inputs_embeds, encoder_hidden_states, encoder_attention_mask, use_cache, output_attentions, output_hidden_states, return_dict, **kwargs)\u001b[0m\n\u001b[1;32m    866\u001b[0m             \u001b[0mposition_ids\u001b[0m \u001b[0;34m=\u001b[0m \u001b[0mcache_position\u001b[0m\u001b[0;34m.\u001b[0m\u001b[0munsqueeze\u001b[0m\u001b[0;34m(\u001b[0m\u001b[0;36m0\u001b[0m\u001b[0;34m)\u001b[0m\u001b[0;34m\u001b[0m\u001b[0;34m\u001b[0m\u001b[0m\n\u001b[1;32m    867\u001b[0m \u001b[0;34m\u001b[0m\u001b[0m\n\u001b[0;32m--> 868\u001b[0;31m         \u001b[0mposition_embeds\u001b[0m \u001b[0;34m=\u001b[0m \u001b[0mself\u001b[0m\u001b[0;34m.\u001b[0m\u001b[0mwpe\u001b[0m\u001b[0;34m(\u001b[0m\u001b[0mposition_ids\u001b[0m\u001b[0;34m)\u001b[0m\u001b[0;34m\u001b[0m\u001b[0;34m\u001b[0m\u001b[0m\n\u001b[0m\u001b[1;32m    869\u001b[0m         \u001b[0mhidden_states\u001b[0m \u001b[0;34m=\u001b[0m \u001b[0minputs_embeds\u001b[0m \u001b[0;34m+\u001b[0m \u001b[0mposition_embeds\u001b[0m\u001b[0;34m.\u001b[0m\u001b[0mto\u001b[0m\u001b[0;34m(\u001b[0m\u001b[0minputs_embeds\u001b[0m\u001b[0;34m.\u001b[0m\u001b[0mdevice\u001b[0m\u001b[0;34m)\u001b[0m\u001b[0;34m\u001b[0m\u001b[0;34m\u001b[0m\u001b[0m\n\u001b[1;32m    870\u001b[0m \u001b[0;34m\u001b[0m\u001b[0m\n",
            "\u001b[0;32m/usr/local/lib/python3.11/dist-packages/torch/nn/modules/module.py\u001b[0m in \u001b[0;36m_wrapped_call_impl\u001b[0;34m(self, *args, **kwargs)\u001b[0m\n\u001b[1;32m   1737\u001b[0m             \u001b[0;32mreturn\u001b[0m \u001b[0mself\u001b[0m\u001b[0;34m.\u001b[0m\u001b[0m_compiled_call_impl\u001b[0m\u001b[0;34m(\u001b[0m\u001b[0;34m*\u001b[0m\u001b[0margs\u001b[0m\u001b[0;34m,\u001b[0m \u001b[0;34m**\u001b[0m\u001b[0mkwargs\u001b[0m\u001b[0;34m)\u001b[0m  \u001b[0;31m# type: ignore[misc]\u001b[0m\u001b[0;34m\u001b[0m\u001b[0;34m\u001b[0m\u001b[0m\n\u001b[1;32m   1738\u001b[0m         \u001b[0;32melse\u001b[0m\u001b[0;34m:\u001b[0m\u001b[0;34m\u001b[0m\u001b[0;34m\u001b[0m\u001b[0m\n\u001b[0;32m-> 1739\u001b[0;31m             \u001b[0;32mreturn\u001b[0m \u001b[0mself\u001b[0m\u001b[0;34m.\u001b[0m\u001b[0m_call_impl\u001b[0m\u001b[0;34m(\u001b[0m\u001b[0;34m*\u001b[0m\u001b[0margs\u001b[0m\u001b[0;34m,\u001b[0m \u001b[0;34m**\u001b[0m\u001b[0mkwargs\u001b[0m\u001b[0;34m)\u001b[0m\u001b[0;34m\u001b[0m\u001b[0;34m\u001b[0m\u001b[0m\n\u001b[0m\u001b[1;32m   1740\u001b[0m \u001b[0;34m\u001b[0m\u001b[0m\n\u001b[1;32m   1741\u001b[0m     \u001b[0;31m# torchrec tests the code consistency with the following code\u001b[0m\u001b[0;34m\u001b[0m\u001b[0;34m\u001b[0m\u001b[0m\n",
            "\u001b[0;32m/usr/local/lib/python3.11/dist-packages/torch/nn/modules/module.py\u001b[0m in \u001b[0;36m_call_impl\u001b[0;34m(self, *args, **kwargs)\u001b[0m\n\u001b[1;32m   1748\u001b[0m                 \u001b[0;32mor\u001b[0m \u001b[0m_global_backward_pre_hooks\u001b[0m \u001b[0;32mor\u001b[0m \u001b[0m_global_backward_hooks\u001b[0m\u001b[0;34m\u001b[0m\u001b[0;34m\u001b[0m\u001b[0m\n\u001b[1;32m   1749\u001b[0m                 or _global_forward_hooks or _global_forward_pre_hooks):\n\u001b[0;32m-> 1750\u001b[0;31m             \u001b[0;32mreturn\u001b[0m \u001b[0mforward_call\u001b[0m\u001b[0;34m(\u001b[0m\u001b[0;34m*\u001b[0m\u001b[0margs\u001b[0m\u001b[0;34m,\u001b[0m \u001b[0;34m**\u001b[0m\u001b[0mkwargs\u001b[0m\u001b[0;34m)\u001b[0m\u001b[0;34m\u001b[0m\u001b[0;34m\u001b[0m\u001b[0m\n\u001b[0m\u001b[1;32m   1751\u001b[0m \u001b[0;34m\u001b[0m\u001b[0m\n\u001b[1;32m   1752\u001b[0m         \u001b[0mresult\u001b[0m \u001b[0;34m=\u001b[0m \u001b[0;32mNone\u001b[0m\u001b[0;34m\u001b[0m\u001b[0;34m\u001b[0m\u001b[0m\n",
            "\u001b[0;32m/usr/local/lib/python3.11/dist-packages/torch/nn/modules/sparse.py\u001b[0m in \u001b[0;36mforward\u001b[0;34m(self, input)\u001b[0m\n\u001b[1;32m    188\u001b[0m \u001b[0;34m\u001b[0m\u001b[0m\n\u001b[1;32m    189\u001b[0m     \u001b[0;32mdef\u001b[0m \u001b[0mforward\u001b[0m\u001b[0;34m(\u001b[0m\u001b[0mself\u001b[0m\u001b[0;34m,\u001b[0m \u001b[0minput\u001b[0m\u001b[0;34m:\u001b[0m \u001b[0mTensor\u001b[0m\u001b[0;34m)\u001b[0m \u001b[0;34m->\u001b[0m \u001b[0mTensor\u001b[0m\u001b[0;34m:\u001b[0m\u001b[0;34m\u001b[0m\u001b[0;34m\u001b[0m\u001b[0m\n\u001b[0;32m--> 190\u001b[0;31m         return F.embedding(\n\u001b[0m\u001b[1;32m    191\u001b[0m             \u001b[0minput\u001b[0m\u001b[0;34m,\u001b[0m\u001b[0;34m\u001b[0m\u001b[0;34m\u001b[0m\u001b[0m\n\u001b[1;32m    192\u001b[0m             \u001b[0mself\u001b[0m\u001b[0;34m.\u001b[0m\u001b[0mweight\u001b[0m\u001b[0;34m,\u001b[0m\u001b[0;34m\u001b[0m\u001b[0;34m\u001b[0m\u001b[0m\n",
            "\u001b[0;32m/usr/local/lib/python3.11/dist-packages/torch/nn/functional.py\u001b[0m in \u001b[0;36membedding\u001b[0;34m(input, weight, padding_idx, max_norm, norm_type, scale_grad_by_freq, sparse)\u001b[0m\n\u001b[1;32m   2549\u001b[0m         \u001b[0;31m# remove once script supports set_grad_enabled\u001b[0m\u001b[0;34m\u001b[0m\u001b[0;34m\u001b[0m\u001b[0m\n\u001b[1;32m   2550\u001b[0m         \u001b[0m_no_grad_embedding_renorm_\u001b[0m\u001b[0;34m(\u001b[0m\u001b[0mweight\u001b[0m\u001b[0;34m,\u001b[0m \u001b[0minput\u001b[0m\u001b[0;34m,\u001b[0m \u001b[0mmax_norm\u001b[0m\u001b[0;34m,\u001b[0m \u001b[0mnorm_type\u001b[0m\u001b[0;34m)\u001b[0m\u001b[0;34m\u001b[0m\u001b[0;34m\u001b[0m\u001b[0m\n\u001b[0;32m-> 2551\u001b[0;31m     \u001b[0;32mreturn\u001b[0m \u001b[0mtorch\u001b[0m\u001b[0;34m.\u001b[0m\u001b[0membedding\u001b[0m\u001b[0;34m(\u001b[0m\u001b[0mweight\u001b[0m\u001b[0;34m,\u001b[0m \u001b[0minput\u001b[0m\u001b[0;34m,\u001b[0m \u001b[0mpadding_idx\u001b[0m\u001b[0;34m,\u001b[0m \u001b[0mscale_grad_by_freq\u001b[0m\u001b[0;34m,\u001b[0m \u001b[0msparse\u001b[0m\u001b[0;34m)\u001b[0m\u001b[0;34m\u001b[0m\u001b[0;34m\u001b[0m\u001b[0m\n\u001b[0m\u001b[1;32m   2552\u001b[0m \u001b[0;34m\u001b[0m\u001b[0m\n\u001b[1;32m   2553\u001b[0m \u001b[0;34m\u001b[0m\u001b[0m\n",
            "\u001b[0;31mIndexError\u001b[0m: index out of range in self"
          ]
        }
      ]
    },
    {
      "cell_type": "code",
      "source": [],
      "metadata": {
        "id": "dwqjIa4xqVMf"
      },
      "execution_count": null,
      "outputs": []
    }
  ]
}